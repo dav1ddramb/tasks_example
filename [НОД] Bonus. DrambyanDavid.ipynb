{
 "cells": [
  {
   "cell_type": "markdown",
   "metadata": {},
   "source": [
    "Драмбян Давид, БЭК186"
   ]
  },
  {
   "cell_type": "code",
   "execution_count": 1,
   "metadata": {},
   "outputs": [],
   "source": [
    "import numpy as np\n",
    "import pandas as pd\n",
    "import matplotlib.pyplot as plt\n",
    "from sklearn.model_selection import train_test_split\n",
    "from sklearn.ensemble import RandomForestRegressor\n",
    "from sklearn.tree import DecisionTreeRegressor\n",
    "from sklearn.metrics import mean_squared_error"
   ]
  },
  {
   "cell_type": "markdown",
   "metadata": {},
   "source": [
    "## #1"
   ]
  },
  {
   "cell_type": "markdown",
   "metadata": {},
   "source": [
    "Использую данные по разбившимся самолетам. По ссылке есть описание. \n",
    "\n",
    "https://www.kaggle.com/cgurkan/airplane-crash-data-since-1908"
   ]
  },
  {
   "cell_type": "code",
   "execution_count": 2,
   "metadata": {},
   "outputs": [],
   "source": [
    "csv = pd.read_csv('Airplane_Crashes_and_Fatalities_Since_1908_20190820105639.csv')\n",
    "df = pd.DataFrame(csv)"
   ]
  },
  {
   "cell_type": "code",
   "execution_count": 3,
   "metadata": {},
   "outputs": [
    {
     "data": {
      "text/plain": [
       "Date                      object\n",
       "Time                      object\n",
       "Location                  object\n",
       "Operator                  object\n",
       "Flight #                  object\n",
       "Route                     object\n",
       "AC Type                   object\n",
       "Registration              object\n",
       "cn/ln                     object\n",
       "Aboard                   float64\n",
       "Aboard Passangers        float64\n",
       "Aboard Crew              float64\n",
       "Fatalities               float64\n",
       "Fatalities Passangers    float64\n",
       "Fatalities Crew          float64\n",
       "Ground                   float64\n",
       "Summary                   object\n",
       "dtype: object"
      ]
     },
     "execution_count": 3,
     "metadata": {},
     "output_type": "execute_result"
    }
   ],
   "source": [
    "df.dtypes"
   ]
  },
  {
   "cell_type": "code",
   "execution_count": 4,
   "metadata": {},
   "outputs": [
    {
     "data": {
      "text/plain": [
       "Date                     0.000000\n",
       "Time                     0.304006\n",
       "Location                 0.000805\n",
       "Operator                 0.002013\n",
       "Flight #                 0.735253\n",
       "Route                    0.155828\n",
       "AC Type                  0.003020\n",
       "Registration             0.054963\n",
       "cn/ln                    0.134488\n",
       "Aboard                   0.003624\n",
       "Aboard Passangers        0.046104\n",
       "Aboard Crew              0.045500\n",
       "Fatalities               0.001611\n",
       "Fatalities Passangers    0.048722\n",
       "Fatalities Crew          0.048520\n",
       "Ground                   0.008254\n",
       "Summary                  0.012885\n",
       "dtype: float64"
      ]
     },
     "execution_count": 4,
     "metadata": {},
     "output_type": "execute_result"
    }
   ],
   "source": [
    "# Проверим, какие колонки слишком захламлены None\n",
    "df.isnull().sum()/len(df)"
   ]
  },
  {
   "cell_type": "code",
   "execution_count": 5,
   "metadata": {},
   "outputs": [
    {
     "data": {
      "text/plain": [
       "Date                     0.000000\n",
       "Time                     0.000000\n",
       "Location                 0.000000\n",
       "Operator                 0.000000\n",
       "Flight #                 0.000000\n",
       "Route                    0.000000\n",
       "AC Type                  0.000000\n",
       "Registration             0.000000\n",
       "cn/ln                    0.000000\n",
       "Aboard                   0.001007\n",
       "Aboard Passangers        0.171733\n",
       "Aboard Crew              0.001409\n",
       "Fatalities               0.014898\n",
       "Fatalities Passangers    0.205758\n",
       "Fatalities Crew          0.079525\n",
       "Ground                   0.943024\n",
       "Summary                  0.000000\n",
       "dtype: float64"
      ]
     },
     "execution_count": 5,
     "metadata": {},
     "output_type": "execute_result"
    }
   ],
   "source": [
    "(df == 0).astype(int).sum(axis=0)/len(df)"
   ]
  },
  {
   "cell_type": "code",
   "execution_count": 6,
   "metadata": {},
   "outputs": [],
   "source": [
    "# Удалим захламленные и ненужные объектные признаки\n",
    "# Информация о разбиении на экипаж и пассажиров ничего не дает\n",
    "# Time удалим, поскольу данные выглядят округленными и неотражающими действительность\n",
    "df = df.drop(columns=['Flight #', 'Registration', 'Aboard Passangers', 'Aboard Crew', 'Fatalities Passangers', 'Fatalities Crew', 'Ground', 'Summary', 'cn/ln', 'Time'])"
   ]
  },
  {
   "cell_type": "code",
   "execution_count": 7,
   "metadata": {},
   "outputs": [
    {
     "data": {
      "text/plain": [
       "Date          0.000000\n",
       "Location      0.000805\n",
       "Operator      0.002013\n",
       "Route         0.155828\n",
       "AC Type       0.003020\n",
       "Aboard        0.003624\n",
       "Fatalities    0.001611\n",
       "dtype: float64"
      ]
     },
     "execution_count": 7,
     "metadata": {},
     "output_type": "execute_result"
    }
   ],
   "source": [
    "df.isnull().sum()/len(df)"
   ]
  },
  {
   "cell_type": "markdown",
   "metadata": {},
   "source": [
    "Заполню пропуски\n",
    "\n",
    "Для порядковых признаков заполним пропуски 'Unknown' или удалим эти строки, поскольку их немного (кроме пути('Route')\n",
    "\n",
    "Для количественнных признаков, заменим пропуски на медиану(на борту и пострадавшие). Среднее использовать не стоит, поскольку большое количество пасссажиров на коммерческих рейсах, для которых известно количество людей на борту, сместит ее. Более того, среднее сделает из целочисленного признака - float(по смыслу не очень уместно для количества людей)(тип данных был float, но по смыслу, количество людей- целое число). "
   ]
  },
  {
   "cell_type": "code",
   "execution_count": 8,
   "metadata": {},
   "outputs": [],
   "source": [
    "#df['Location'] = df['Location'].fillna('Unknown')\n",
    "df = df.dropna(axis=0, subset=['Location'])\n",
    "#df['Operator'] = df['Operator'].fillna('Unknown')\n",
    "df = df.dropna(axis=0, subset=['Operator'])\n",
    "df['Route'] = df['Route'].fillna('Unknown')\n",
    "df = df.dropna(axis=0, subset=['AC Type'])\n",
    "df['Aboard'] = df['Aboard'].fillna(np.median(df['Aboard'][~np.isnan(df['Aboard'])]))\n",
    "df['Fatalities'] = df['Fatalities'].fillna(np.median(df['Fatalities'][~np.isnan(df['Fatalities'])]))"
   ]
  },
  {
   "cell_type": "code",
   "execution_count": 9,
   "metadata": {
    "scrolled": true
   },
   "outputs": [
    {
     "data": {
      "text/plain": [
       "Date          0.0\n",
       "Location      0.0\n",
       "Operator      0.0\n",
       "Route         0.0\n",
       "AC Type       0.0\n",
       "Aboard        0.0\n",
       "Fatalities    0.0\n",
       "dtype: float64"
      ]
     },
     "execution_count": 9,
     "metadata": {},
     "output_type": "execute_result"
    }
   ],
   "source": [
    "df.isnull().sum()/len(df)"
   ]
  },
  {
   "cell_type": "code",
   "execution_count": 10,
   "metadata": {
    "scrolled": false
   },
   "outputs": [
    {
     "data": {
      "text/html": [
       "<div>\n",
       "<style scoped>\n",
       "    .dataframe tbody tr th:only-of-type {\n",
       "        vertical-align: middle;\n",
       "    }\n",
       "\n",
       "    .dataframe tbody tr th {\n",
       "        vertical-align: top;\n",
       "    }\n",
       "\n",
       "    .dataframe thead th {\n",
       "        text-align: right;\n",
       "    }\n",
       "</style>\n",
       "<table border=\"1\" class=\"dataframe\">\n",
       "  <thead>\n",
       "    <tr style=\"text-align: right;\">\n",
       "      <th></th>\n",
       "      <th>Date</th>\n",
       "      <th>Location</th>\n",
       "      <th>Operator</th>\n",
       "      <th>Route</th>\n",
       "      <th>AC Type</th>\n",
       "      <th>Aboard</th>\n",
       "      <th>Fatalities</th>\n",
       "    </tr>\n",
       "  </thead>\n",
       "  <tbody>\n",
       "    <tr>\n",
       "      <td>0</td>\n",
       "      <td>09/17/1908</td>\n",
       "      <td>Fort Myer, Virginia</td>\n",
       "      <td>Military - U.S. Army</td>\n",
       "      <td>Demonstration</td>\n",
       "      <td>Wright Flyer III</td>\n",
       "      <td>2.0</td>\n",
       "      <td>1.0</td>\n",
       "    </tr>\n",
       "    <tr>\n",
       "      <td>2</td>\n",
       "      <td>07/12/1912</td>\n",
       "      <td>Atlantic City, New Jersey</td>\n",
       "      <td>Military - U.S. Navy</td>\n",
       "      <td>Test flight</td>\n",
       "      <td>Dirigible</td>\n",
       "      <td>5.0</td>\n",
       "      <td>5.0</td>\n",
       "    </tr>\n",
       "    <tr>\n",
       "      <td>3</td>\n",
       "      <td>08/06/1913</td>\n",
       "      <td>Victoria, British Columbia, Canada</td>\n",
       "      <td>Private</td>\n",
       "      <td>Unknown</td>\n",
       "      <td>Curtiss seaplane</td>\n",
       "      <td>1.0</td>\n",
       "      <td>1.0</td>\n",
       "    </tr>\n",
       "    <tr>\n",
       "      <td>4</td>\n",
       "      <td>09/09/1913</td>\n",
       "      <td>Over the North Sea</td>\n",
       "      <td>Military - German Navy</td>\n",
       "      <td>Unknown</td>\n",
       "      <td>Zeppelin L-1 (airship)</td>\n",
       "      <td>20.0</td>\n",
       "      <td>14.0</td>\n",
       "    </tr>\n",
       "    <tr>\n",
       "      <td>5</td>\n",
       "      <td>10/17/1913</td>\n",
       "      <td>Near Johannisthal, Germany</td>\n",
       "      <td>Military - German Navy</td>\n",
       "      <td>Unknown</td>\n",
       "      <td>Zeppelin L-2 (airship)</td>\n",
       "      <td>30.0</td>\n",
       "      <td>30.0</td>\n",
       "    </tr>\n",
       "    <tr>\n",
       "      <td>...</td>\n",
       "      <td>...</td>\n",
       "      <td>...</td>\n",
       "      <td>...</td>\n",
       "      <td>...</td>\n",
       "      <td>...</td>\n",
       "      <td>...</td>\n",
       "      <td>...</td>\n",
       "    </tr>\n",
       "    <tr>\n",
       "      <td>4962</td>\n",
       "      <td>04/16/2019</td>\n",
       "      <td>Puerto Montt, Chile</td>\n",
       "      <td>Archipelagos Service Aereos</td>\n",
       "      <td>Puerto Montt - Ayacara</td>\n",
       "      <td>Pilatus-Britten Norman BN-2B-27 Islander</td>\n",
       "      <td>6.0</td>\n",
       "      <td>6.0</td>\n",
       "    </tr>\n",
       "    <tr>\n",
       "      <td>4963</td>\n",
       "      <td>05/05/2019</td>\n",
       "      <td>Near Monclava, Mexico</td>\n",
       "      <td>TVPX Aircraft Solutions</td>\n",
       "      <td>Las Vegas - Monterrey</td>\n",
       "      <td>Canadair CL-600-2B16-Challenger</td>\n",
       "      <td>13.0</td>\n",
       "      <td>13.0</td>\n",
       "    </tr>\n",
       "    <tr>\n",
       "      <td>4964</td>\n",
       "      <td>05/05/2019</td>\n",
       "      <td>Moscow, Russia</td>\n",
       "      <td>Aeroflot Russian International Airlines</td>\n",
       "      <td>Moscow - Murmansk</td>\n",
       "      <td>Sukhoi Superjet-100-95B</td>\n",
       "      <td>78.0</td>\n",
       "      <td>41.0</td>\n",
       "    </tr>\n",
       "    <tr>\n",
       "      <td>4965</td>\n",
       "      <td>06/03/2019</td>\n",
       "      <td>Near Lipo, India</td>\n",
       "      <td>Military - Indian Air Force</td>\n",
       "      <td>Jorhat-Rowriah - Mechuka</td>\n",
       "      <td>Antonov An-32</td>\n",
       "      <td>13.0</td>\n",
       "      <td>13.0</td>\n",
       "    </tr>\n",
       "    <tr>\n",
       "      <td>4966</td>\n",
       "      <td>07/30/2019</td>\n",
       "      <td>Rawalpindi, India</td>\n",
       "      <td>Military - Pakistan Army</td>\n",
       "      <td>Training</td>\n",
       "      <td>Beechcraft B300 King Air</td>\n",
       "      <td>5.0</td>\n",
       "      <td>5.0</td>\n",
       "    </tr>\n",
       "  </tbody>\n",
       "</table>\n",
       "<p>4941 rows × 7 columns</p>\n",
       "</div>"
      ],
      "text/plain": [
       "            Date                            Location  \\\n",
       "0     09/17/1908                 Fort Myer, Virginia   \n",
       "2     07/12/1912           Atlantic City, New Jersey   \n",
       "3     08/06/1913  Victoria, British Columbia, Canada   \n",
       "4     09/09/1913                  Over the North Sea   \n",
       "5     10/17/1913          Near Johannisthal, Germany   \n",
       "...          ...                                 ...   \n",
       "4962  04/16/2019                 Puerto Montt, Chile   \n",
       "4963  05/05/2019               Near Monclava, Mexico   \n",
       "4964  05/05/2019                      Moscow, Russia   \n",
       "4965  06/03/2019                    Near Lipo, India   \n",
       "4966  07/30/2019                   Rawalpindi, India   \n",
       "\n",
       "                                     Operator                      Route  \\\n",
       "0                        Military - U.S. Army              Demonstration   \n",
       "2                        Military - U.S. Navy                Test flight   \n",
       "3                                     Private                    Unknown   \n",
       "4                      Military - German Navy                    Unknown   \n",
       "5                      Military - German Navy                    Unknown   \n",
       "...                                       ...                        ...   \n",
       "4962              Archipelagos Service Aereos     Puerto Montt - Ayacara   \n",
       "4963                  TVPX Aircraft Solutions      Las Vegas - Monterrey   \n",
       "4964  Aeroflot Russian International Airlines          Moscow - Murmansk   \n",
       "4965              Military - Indian Air Force   Jorhat-Rowriah - Mechuka   \n",
       "4966                 Military - Pakistan Army                   Training   \n",
       "\n",
       "                                       AC Type  Aboard  Fatalities  \n",
       "0                             Wright Flyer III     2.0         1.0  \n",
       "2                                    Dirigible     5.0         5.0  \n",
       "3                             Curtiss seaplane     1.0         1.0  \n",
       "4                       Zeppelin L-1 (airship)    20.0        14.0  \n",
       "5                       Zeppelin L-2 (airship)    30.0        30.0  \n",
       "...                                        ...     ...         ...  \n",
       "4962  Pilatus-Britten Norman BN-2B-27 Islander     6.0         6.0  \n",
       "4963           Canadair CL-600-2B16-Challenger    13.0        13.0  \n",
       "4964                   Sukhoi Superjet-100-95B    78.0        41.0  \n",
       "4965                             Antonov An-32    13.0        13.0  \n",
       "4966                  Beechcraft B300 King Air     5.0         5.0  \n",
       "\n",
       "[4941 rows x 7 columns]"
      ]
     },
     "execution_count": 10,
     "metadata": {},
     "output_type": "execute_result"
    }
   ],
   "source": [
    "df"
   ]
  },
  {
   "cell_type": "markdown",
   "metadata": {},
   "source": [
    "Создадим новые признаки - год и десятилетие, в которое произошла. авария. "
   ]
  },
  {
   "cell_type": "code",
   "execution_count": 11,
   "metadata": {},
   "outputs": [],
   "source": [
    "dates = np.array(df['Date'])\n",
    "year = np.array(list(map(int, np.frompyfunc(lambda x:x[6:10],1,1)(dates))))\n",
    "decade = year//10 * 10\n",
    "\n",
    "df['Year'] = year\n",
    "df['Decade'] = decade"
   ]
  },
  {
   "cell_type": "code",
   "execution_count": 12,
   "metadata": {},
   "outputs": [
    {
     "data": {
      "text/html": [
       "<div>\n",
       "<style scoped>\n",
       "    .dataframe tbody tr th:only-of-type {\n",
       "        vertical-align: middle;\n",
       "    }\n",
       "\n",
       "    .dataframe tbody tr th {\n",
       "        vertical-align: top;\n",
       "    }\n",
       "\n",
       "    .dataframe thead th {\n",
       "        text-align: right;\n",
       "    }\n",
       "</style>\n",
       "<table border=\"1\" class=\"dataframe\">\n",
       "  <thead>\n",
       "    <tr style=\"text-align: right;\">\n",
       "      <th></th>\n",
       "      <th>Date</th>\n",
       "      <th>Location</th>\n",
       "      <th>Operator</th>\n",
       "      <th>Route</th>\n",
       "      <th>AC Type</th>\n",
       "      <th>Aboard</th>\n",
       "      <th>Fatalities</th>\n",
       "      <th>Year</th>\n",
       "      <th>Decade</th>\n",
       "    </tr>\n",
       "  </thead>\n",
       "  <tbody>\n",
       "    <tr>\n",
       "      <td>4962</td>\n",
       "      <td>04/16/2019</td>\n",
       "      <td>Puerto Montt, Chile</td>\n",
       "      <td>Archipelagos Service Aereos</td>\n",
       "      <td>Puerto Montt - Ayacara</td>\n",
       "      <td>Pilatus-Britten Norman BN-2B-27 Islander</td>\n",
       "      <td>6.0</td>\n",
       "      <td>6.0</td>\n",
       "      <td>2019</td>\n",
       "      <td>2010</td>\n",
       "    </tr>\n",
       "    <tr>\n",
       "      <td>4963</td>\n",
       "      <td>05/05/2019</td>\n",
       "      <td>Near Monclava, Mexico</td>\n",
       "      <td>TVPX Aircraft Solutions</td>\n",
       "      <td>Las Vegas - Monterrey</td>\n",
       "      <td>Canadair CL-600-2B16-Challenger</td>\n",
       "      <td>13.0</td>\n",
       "      <td>13.0</td>\n",
       "      <td>2019</td>\n",
       "      <td>2010</td>\n",
       "    </tr>\n",
       "    <tr>\n",
       "      <td>4964</td>\n",
       "      <td>05/05/2019</td>\n",
       "      <td>Moscow, Russia</td>\n",
       "      <td>Aeroflot Russian International Airlines</td>\n",
       "      <td>Moscow - Murmansk</td>\n",
       "      <td>Sukhoi Superjet-100-95B</td>\n",
       "      <td>78.0</td>\n",
       "      <td>41.0</td>\n",
       "      <td>2019</td>\n",
       "      <td>2010</td>\n",
       "    </tr>\n",
       "    <tr>\n",
       "      <td>4965</td>\n",
       "      <td>06/03/2019</td>\n",
       "      <td>Near Lipo, India</td>\n",
       "      <td>Military - Indian Air Force</td>\n",
       "      <td>Jorhat-Rowriah - Mechuka</td>\n",
       "      <td>Antonov An-32</td>\n",
       "      <td>13.0</td>\n",
       "      <td>13.0</td>\n",
       "      <td>2019</td>\n",
       "      <td>2010</td>\n",
       "    </tr>\n",
       "    <tr>\n",
       "      <td>4966</td>\n",
       "      <td>07/30/2019</td>\n",
       "      <td>Rawalpindi, India</td>\n",
       "      <td>Military - Pakistan Army</td>\n",
       "      <td>Training</td>\n",
       "      <td>Beechcraft B300 King Air</td>\n",
       "      <td>5.0</td>\n",
       "      <td>5.0</td>\n",
       "      <td>2019</td>\n",
       "      <td>2010</td>\n",
       "    </tr>\n",
       "  </tbody>\n",
       "</table>\n",
       "</div>"
      ],
      "text/plain": [
       "            Date               Location  \\\n",
       "4962  04/16/2019    Puerto Montt, Chile   \n",
       "4963  05/05/2019  Near Monclava, Mexico   \n",
       "4964  05/05/2019         Moscow, Russia   \n",
       "4965  06/03/2019       Near Lipo, India   \n",
       "4966  07/30/2019      Rawalpindi, India   \n",
       "\n",
       "                                     Operator                      Route  \\\n",
       "4962              Archipelagos Service Aereos     Puerto Montt - Ayacara   \n",
       "4963                  TVPX Aircraft Solutions      Las Vegas - Monterrey   \n",
       "4964  Aeroflot Russian International Airlines          Moscow - Murmansk   \n",
       "4965              Military - Indian Air Force   Jorhat-Rowriah - Mechuka   \n",
       "4966                 Military - Pakistan Army                   Training   \n",
       "\n",
       "                                       AC Type  Aboard  Fatalities  Year  \\\n",
       "4962  Pilatus-Britten Norman BN-2B-27 Islander     6.0         6.0  2019   \n",
       "4963           Canadair CL-600-2B16-Challenger    13.0        13.0  2019   \n",
       "4964                   Sukhoi Superjet-100-95B    78.0        41.0  2019   \n",
       "4965                             Antonov An-32    13.0        13.0  2019   \n",
       "4966                  Beechcraft B300 King Air     5.0         5.0  2019   \n",
       "\n",
       "      Decade  \n",
       "4962    2010  \n",
       "4963    2010  \n",
       "4964    2010  \n",
       "4965    2010  \n",
       "4966    2010  "
      ]
     },
     "execution_count": 12,
     "metadata": {},
     "output_type": "execute_result"
    }
   ],
   "source": [
    "df.tail()"
   ]
  },
  {
   "cell_type": "code",
   "execution_count": 13,
   "metadata": {},
   "outputs": [
    {
     "data": {
      "text/plain": [
       "Text(0, 0.5, 'Number of crashes')"
      ]
     },
     "execution_count": 13,
     "metadata": {},
     "output_type": "execute_result"
    },
    {
     "data": {
      "image/png": "[encoded data removed]",
      "text/plain": [
       "<Figure size 432x288 with 1 Axes>"
      ]
     },
     "metadata": {
      "needs_background": "light"
     },
     "output_type": "display_data"
    }
   ],
   "source": [
    "plt.hist(df['Decade'])\n",
    "plt.title('Crashes by decade')\n",
    "plt.xlabel('Decade')\n",
    "plt.ylabel('Number of crashes')"
   ]
  },
  {
   "cell_type": "markdown",
   "metadata": {},
   "source": [
    "Гипотеза: количество аварий воздушных суден. растет в связи с ростом количества полетов. \n",
    "\n",
    "Необходимо. добавить данные по всем полетам(не нашел датасет в открутом доступе) и вычислить (количество крушений) / (количество полетов) по десятелетиям. "
   ]
  },
  {
   "cell_type": "code",
   "execution_count": 14,
   "metadata": {},
   "outputs": [],
   "source": [
    "fat_per_decade = df.groupby(['Decade']).mean()['Fatalities']\n",
    "aboard_per_decade = df.groupby(['Decade']).mean()['Aboard']\n",
    "rate = fat_per_decade / aboard_per_decade"
   ]
  },
  {
   "cell_type": "code",
   "execution_count": 15,
   "metadata": {},
   "outputs": [
    {
     "data": {
      "image/png": "[encoded data removed]",
      "text/plain": [
       "<Figure size 1440x360 with 2 Axes>"
      ]
     },
     "metadata": {
      "needs_background": "light"
     },
     "output_type": "display_data"
    }
   ],
   "source": [
    "fig, ax = plt.subplots(1, 2)\n",
    "fig.set_figheight(5)\n",
    "fig.set_figwidth(20)\n",
    "ax[0].plot(fat_per_decade, label='Fatalities per decade')\n",
    "ax[0].plot(aboard_per_decade, label='Aboard per decade')\n",
    "#ax.plot(fat_per_decade/aboard_per_decade, label='Fatality Rate', color='r')\n",
    "ax[0].set_title('Average number of people onboard and fatalities per decade')\n",
    "ax[0].set_xlabel('Decade')\n",
    "ax[0].set_ylabel('People')\n",
    "\n",
    "ax[1].plot(fat_per_decade/aboard_per_decade, label='Fatality Rate', color='r')\n",
    "ax[1].plot(1 - (fat_per_decade/aboard_per_decade), label='Survival Rate', color='g')\n",
    "ax[1].set_title('Fatality and Survival Rates per Decade')\n",
    "ax[1].set_xlabel('Decade')\n",
    "ax[1].set_ylabel('RAte')\n",
    "\n",
    "#secaxy = ax.secondary_yaxis('right')\n",
    "ax[0].legend()\n",
    "ax[1].legend()\n",
    "plt.show()"
   ]
  },
  {
   "cell_type": "markdown",
   "metadata": {},
   "source": [
    "Гипотеза: больший процент людей стал выживать"
   ]
  },
  {
   "cell_type": "markdown",
   "metadata": {},
   "source": [
    "## #2"
   ]
  },
  {
   "cell_type": "markdown",
   "metadata": {},
   "source": [
    "Интересно было посмотреть датасет, в котором рассмотрены факторы счастья в странах. \n",
    "\n",
    "https://www.kaggle.com/unsdsn/world-happiness?select=2019.csv"
   ]
  },
  {
   "cell_type": "code",
   "execution_count": 263,
   "metadata": {},
   "outputs": [],
   "source": [
    "csv = pd.read_csv('datasets-894-813759-2019.csv')\n",
    "df = pd.DataFrame(csv)"
   ]
  },
  {
   "cell_type": "code",
   "execution_count": 265,
   "metadata": {},
   "outputs": [
    {
     "data": {
      "text/plain": [
       "Overall rank                    0.0\n",
       "Country or region               0.0\n",
       "Score                           0.0\n",
       "GDP per capita                  0.0\n",
       "Social support                  0.0\n",
       "Healthy life expectancy         0.0\n",
       "Freedom to make life choices    0.0\n",
       "Generosity                      0.0\n",
       "Perceptions of corruption       0.0\n",
       "dtype: float64"
      ]
     },
     "execution_count": 265,
     "metadata": {},
     "output_type": "execute_result"
    }
   ],
   "source": [
    "# Проверим, какие колонки слишком захламлены None\n",
    "df.isnull().sum()/len(df)"
   ]
  },
  {
   "cell_type": "code",
   "execution_count": 266,
   "metadata": {},
   "outputs": [
    {
     "data": {
      "text/plain": [
       "Overall rank                    0\n",
       "Country or region               0\n",
       "Score                           0\n",
       "GDP per capita                  1\n",
       "Social support                  1\n",
       "Healthy life expectancy         1\n",
       "Freedom to make life choices    1\n",
       "Generosity                      1\n",
       "Perceptions of corruption       1\n",
       "dtype: int64"
      ]
     },
     "execution_count": 266,
     "metadata": {},
     "output_type": "execute_result"
    }
   ],
   "source": [
    "# Удалим страну\n",
    "(df == 0).astype(int).sum(axis=0)"
   ]
  },
  {
   "cell_type": "code",
   "execution_count": 243,
   "metadata": {},
   "outputs": [],
   "source": [
    "df = df[(df != 0).all(1)]"
   ]
  },
  {
   "cell_type": "code",
   "execution_count": 244,
   "metadata": {},
   "outputs": [
    {
     "data": {
      "text/plain": [
       "Overall rank                    0\n",
       "Country or region               0\n",
       "Score                           0\n",
       "GDP per capita                  0\n",
       "Social support                  0\n",
       "Healthy life expectancy         0\n",
       "Freedom to make life choices    0\n",
       "Generosity                      0\n",
       "Perceptions of corruption       0\n",
       "dtype: int64"
      ]
     },
     "execution_count": 244,
     "metadata": {},
     "output_type": "execute_result"
    }
   ],
   "source": [
    "(df == 0).astype(int).sum(axis=0)"
   ]
  },
  {
   "cell_type": "code",
   "execution_count": 268,
   "metadata": {},
   "outputs": [
    {
     "data": {
      "text/html": [
       "<div>\n",
       "<style scoped>\n",
       "    .dataframe tbody tr th:only-of-type {\n",
       "        vertical-align: middle;\n",
       "    }\n",
       "\n",
       "    .dataframe tbody tr th {\n",
       "        vertical-align: top;\n",
       "    }\n",
       "\n",
       "    .dataframe thead th {\n",
       "        text-align: right;\n",
       "    }\n",
       "</style>\n",
       "<table border=\"1\" class=\"dataframe\">\n",
       "  <thead>\n",
       "    <tr style=\"text-align: right;\">\n",
       "      <th></th>\n",
       "      <th>Overall rank</th>\n",
       "      <th>Country or region</th>\n",
       "      <th>Score</th>\n",
       "      <th>GDP per capita</th>\n",
       "      <th>Social support</th>\n",
       "      <th>Healthy life expectancy</th>\n",
       "      <th>Freedom to make life choices</th>\n",
       "      <th>Generosity</th>\n",
       "      <th>Perceptions of corruption</th>\n",
       "    </tr>\n",
       "  </thead>\n",
       "  <tbody>\n",
       "    <tr>\n",
       "      <td>0</td>\n",
       "      <td>1</td>\n",
       "      <td>Finland</td>\n",
       "      <td>7.769</td>\n",
       "      <td>1.340</td>\n",
       "      <td>1.587</td>\n",
       "      <td>0.986</td>\n",
       "      <td>0.596</td>\n",
       "      <td>0.153</td>\n",
       "      <td>0.393</td>\n",
       "    </tr>\n",
       "    <tr>\n",
       "      <td>1</td>\n",
       "      <td>2</td>\n",
       "      <td>Denmark</td>\n",
       "      <td>7.600</td>\n",
       "      <td>1.383</td>\n",
       "      <td>1.573</td>\n",
       "      <td>0.996</td>\n",
       "      <td>0.592</td>\n",
       "      <td>0.252</td>\n",
       "      <td>0.410</td>\n",
       "    </tr>\n",
       "    <tr>\n",
       "      <td>2</td>\n",
       "      <td>3</td>\n",
       "      <td>Norway</td>\n",
       "      <td>7.554</td>\n",
       "      <td>1.488</td>\n",
       "      <td>1.582</td>\n",
       "      <td>1.028</td>\n",
       "      <td>0.603</td>\n",
       "      <td>0.271</td>\n",
       "      <td>0.341</td>\n",
       "    </tr>\n",
       "    <tr>\n",
       "      <td>3</td>\n",
       "      <td>4</td>\n",
       "      <td>Iceland</td>\n",
       "      <td>7.494</td>\n",
       "      <td>1.380</td>\n",
       "      <td>1.624</td>\n",
       "      <td>1.026</td>\n",
       "      <td>0.591</td>\n",
       "      <td>0.354</td>\n",
       "      <td>0.118</td>\n",
       "    </tr>\n",
       "    <tr>\n",
       "      <td>4</td>\n",
       "      <td>5</td>\n",
       "      <td>Netherlands</td>\n",
       "      <td>7.488</td>\n",
       "      <td>1.396</td>\n",
       "      <td>1.522</td>\n",
       "      <td>0.999</td>\n",
       "      <td>0.557</td>\n",
       "      <td>0.322</td>\n",
       "      <td>0.298</td>\n",
       "    </tr>\n",
       "    <tr>\n",
       "      <td>...</td>\n",
       "      <td>...</td>\n",
       "      <td>...</td>\n",
       "      <td>...</td>\n",
       "      <td>...</td>\n",
       "      <td>...</td>\n",
       "      <td>...</td>\n",
       "      <td>...</td>\n",
       "      <td>...</td>\n",
       "      <td>...</td>\n",
       "    </tr>\n",
       "    <tr>\n",
       "      <td>151</td>\n",
       "      <td>152</td>\n",
       "      <td>Rwanda</td>\n",
       "      <td>3.334</td>\n",
       "      <td>0.359</td>\n",
       "      <td>0.711</td>\n",
       "      <td>0.614</td>\n",
       "      <td>0.555</td>\n",
       "      <td>0.217</td>\n",
       "      <td>0.411</td>\n",
       "    </tr>\n",
       "    <tr>\n",
       "      <td>152</td>\n",
       "      <td>153</td>\n",
       "      <td>Tanzania</td>\n",
       "      <td>3.231</td>\n",
       "      <td>0.476</td>\n",
       "      <td>0.885</td>\n",
       "      <td>0.499</td>\n",
       "      <td>0.417</td>\n",
       "      <td>0.276</td>\n",
       "      <td>0.147</td>\n",
       "    </tr>\n",
       "    <tr>\n",
       "      <td>153</td>\n",
       "      <td>154</td>\n",
       "      <td>Afghanistan</td>\n",
       "      <td>3.203</td>\n",
       "      <td>0.350</td>\n",
       "      <td>0.517</td>\n",
       "      <td>0.361</td>\n",
       "      <td>0.000</td>\n",
       "      <td>0.158</td>\n",
       "      <td>0.025</td>\n",
       "    </tr>\n",
       "    <tr>\n",
       "      <td>154</td>\n",
       "      <td>155</td>\n",
       "      <td>Central African Republic</td>\n",
       "      <td>3.083</td>\n",
       "      <td>0.026</td>\n",
       "      <td>0.000</td>\n",
       "      <td>0.105</td>\n",
       "      <td>0.225</td>\n",
       "      <td>0.235</td>\n",
       "      <td>0.035</td>\n",
       "    </tr>\n",
       "    <tr>\n",
       "      <td>155</td>\n",
       "      <td>156</td>\n",
       "      <td>South Sudan</td>\n",
       "      <td>2.853</td>\n",
       "      <td>0.306</td>\n",
       "      <td>0.575</td>\n",
       "      <td>0.295</td>\n",
       "      <td>0.010</td>\n",
       "      <td>0.202</td>\n",
       "      <td>0.091</td>\n",
       "    </tr>\n",
       "  </tbody>\n",
       "</table>\n",
       "<p>156 rows × 9 columns</p>\n",
       "</div>"
      ],
      "text/plain": [
       "     Overall rank         Country or region  Score  GDP per capita  \\\n",
       "0               1                   Finland  7.769           1.340   \n",
       "1               2                   Denmark  7.600           1.383   \n",
       "2               3                    Norway  7.554           1.488   \n",
       "3               4                   Iceland  7.494           1.380   \n",
       "4               5               Netherlands  7.488           1.396   \n",
       "..            ...                       ...    ...             ...   \n",
       "151           152                    Rwanda  3.334           0.359   \n",
       "152           153                  Tanzania  3.231           0.476   \n",
       "153           154               Afghanistan  3.203           0.350   \n",
       "154           155  Central African Republic  3.083           0.026   \n",
       "155           156               South Sudan  2.853           0.306   \n",
       "\n",
       "     Social support  Healthy life expectancy  Freedom to make life choices  \\\n",
       "0             1.587                    0.986                         0.596   \n",
       "1             1.573                    0.996                         0.592   \n",
       "2             1.582                    1.028                         0.603   \n",
       "3             1.624                    1.026                         0.591   \n",
       "4             1.522                    0.999                         0.557   \n",
       "..              ...                      ...                           ...   \n",
       "151           0.711                    0.614                         0.555   \n",
       "152           0.885                    0.499                         0.417   \n",
       "153           0.517                    0.361                         0.000   \n",
       "154           0.000                    0.105                         0.225   \n",
       "155           0.575                    0.295                         0.010   \n",
       "\n",
       "     Generosity  Perceptions of corruption  \n",
       "0         0.153                      0.393  \n",
       "1         0.252                      0.410  \n",
       "2         0.271                      0.341  \n",
       "3         0.354                      0.118  \n",
       "4         0.322                      0.298  \n",
       "..          ...                        ...  \n",
       "151       0.217                      0.411  \n",
       "152       0.276                      0.147  \n",
       "153       0.158                      0.025  \n",
       "154       0.235                      0.035  \n",
       "155       0.202                      0.091  \n",
       "\n",
       "[156 rows x 9 columns]"
      ]
     },
     "execution_count": 268,
     "metadata": {},
     "output_type": "execute_result"
    }
   ],
   "source": [
    "df"
   ]
  },
  {
   "cell_type": "code",
   "execution_count": 278,
   "metadata": {},
   "outputs": [],
   "source": [
    "np.random.seed(42)\n",
    "X = df.iloc()[:, 3:]\n",
    "y = df['Score']\n",
    "X_train, X_test, y_train, y_test = train_test_split(X, y, test_size=0.3)"
   ]
  },
  {
   "cell_type": "code",
   "execution_count": 279,
   "metadata": {},
   "outputs": [
    {
     "data": {
      "text/html": [
       "<div>\n",
       "<style scoped>\n",
       "    .dataframe tbody tr th:only-of-type {\n",
       "        vertical-align: middle;\n",
       "    }\n",
       "\n",
       "    .dataframe tbody tr th {\n",
       "        vertical-align: top;\n",
       "    }\n",
       "\n",
       "    .dataframe thead th {\n",
       "        text-align: right;\n",
       "    }\n",
       "</style>\n",
       "<table border=\"1\" class=\"dataframe\">\n",
       "  <thead>\n",
       "    <tr style=\"text-align: right;\">\n",
       "      <th></th>\n",
       "      <th>GDP per capita</th>\n",
       "      <th>Social support</th>\n",
       "      <th>Healthy life expectancy</th>\n",
       "      <th>Freedom to make life choices</th>\n",
       "      <th>Generosity</th>\n",
       "      <th>Perceptions of corruption</th>\n",
       "    </tr>\n",
       "  </thead>\n",
       "  <tbody>\n",
       "    <tr>\n",
       "      <td>86</td>\n",
       "      <td>1.052</td>\n",
       "      <td>1.538</td>\n",
       "      <td>0.657</td>\n",
       "      <td>0.394</td>\n",
       "      <td>0.244</td>\n",
       "      <td>0.028</td>\n",
       "    </tr>\n",
       "    <tr>\n",
       "      <td>11</td>\n",
       "      <td>1.034</td>\n",
       "      <td>1.441</td>\n",
       "      <td>0.963</td>\n",
       "      <td>0.558</td>\n",
       "      <td>0.144</td>\n",
       "      <td>0.093</td>\n",
       "    </tr>\n",
       "    <tr>\n",
       "      <td>60</td>\n",
       "      <td>0.776</td>\n",
       "      <td>1.209</td>\n",
       "      <td>0.706</td>\n",
       "      <td>0.511</td>\n",
       "      <td>0.137</td>\n",
       "      <td>0.064</td>\n",
       "    </tr>\n",
       "    <tr>\n",
       "      <td>67</td>\n",
       "      <td>1.183</td>\n",
       "      <td>1.452</td>\n",
       "      <td>0.726</td>\n",
       "      <td>0.334</td>\n",
       "      <td>0.082</td>\n",
       "      <td>0.031</td>\n",
       "    </tr>\n",
       "    <tr>\n",
       "      <td>124</td>\n",
       "      <td>0.562</td>\n",
       "      <td>0.928</td>\n",
       "      <td>0.723</td>\n",
       "      <td>0.527</td>\n",
       "      <td>0.166</td>\n",
       "      <td>0.143</td>\n",
       "    </tr>\n",
       "    <tr>\n",
       "      <td>...</td>\n",
       "      <td>...</td>\n",
       "      <td>...</td>\n",
       "      <td>...</td>\n",
       "      <td>...</td>\n",
       "      <td>...</td>\n",
       "      <td>...</td>\n",
       "    </tr>\n",
       "    <tr>\n",
       "      <td>71</td>\n",
       "      <td>1.044</td>\n",
       "      <td>1.303</td>\n",
       "      <td>0.673</td>\n",
       "      <td>0.416</td>\n",
       "      <td>0.133</td>\n",
       "      <td>0.152</td>\n",
       "    </tr>\n",
       "    <tr>\n",
       "      <td>106</td>\n",
       "      <td>0.947</td>\n",
       "      <td>0.848</td>\n",
       "      <td>0.874</td>\n",
       "      <td>0.383</td>\n",
       "      <td>0.178</td>\n",
       "      <td>0.027</td>\n",
       "    </tr>\n",
       "    <tr>\n",
       "      <td>14</td>\n",
       "      <td>1.333</td>\n",
       "      <td>1.538</td>\n",
       "      <td>0.996</td>\n",
       "      <td>0.450</td>\n",
       "      <td>0.348</td>\n",
       "      <td>0.278</td>\n",
       "    </tr>\n",
       "    <tr>\n",
       "      <td>92</td>\n",
       "      <td>1.029</td>\n",
       "      <td>1.125</td>\n",
       "      <td>0.893</td>\n",
       "      <td>0.521</td>\n",
       "      <td>0.058</td>\n",
       "      <td>0.100</td>\n",
       "    </tr>\n",
       "    <tr>\n",
       "      <td>102</td>\n",
       "      <td>0.673</td>\n",
       "      <td>0.799</td>\n",
       "      <td>0.508</td>\n",
       "      <td>0.372</td>\n",
       "      <td>0.105</td>\n",
       "      <td>0.093</td>\n",
       "    </tr>\n",
       "  </tbody>\n",
       "</table>\n",
       "<p>109 rows × 6 columns</p>\n",
       "</div>"
      ],
      "text/plain": [
       "     GDP per capita  Social support  Healthy life expectancy  \\\n",
       "86            1.052           1.538                    0.657   \n",
       "11            1.034           1.441                    0.963   \n",
       "60            0.776           1.209                    0.706   \n",
       "67            1.183           1.452                    0.726   \n",
       "124           0.562           0.928                    0.723   \n",
       "..              ...             ...                      ...   \n",
       "71            1.044           1.303                    0.673   \n",
       "106           0.947           0.848                    0.874   \n",
       "14            1.333           1.538                    0.996   \n",
       "92            1.029           1.125                    0.893   \n",
       "102           0.673           0.799                    0.508   \n",
       "\n",
       "     Freedom to make life choices  Generosity  Perceptions of corruption  \n",
       "86                          0.394       0.244                      0.028  \n",
       "11                          0.558       0.144                      0.093  \n",
       "60                          0.511       0.137                      0.064  \n",
       "67                          0.334       0.082                      0.031  \n",
       "124                         0.527       0.166                      0.143  \n",
       "..                            ...         ...                        ...  \n",
       "71                          0.416       0.133                      0.152  \n",
       "106                         0.383       0.178                      0.027  \n",
       "14                          0.450       0.348                      0.278  \n",
       "92                          0.521       0.058                      0.100  \n",
       "102                         0.372       0.105                      0.093  \n",
       "\n",
       "[109 rows x 6 columns]"
      ]
     },
     "execution_count": 279,
     "metadata": {},
     "output_type": "execute_result"
    }
   ],
   "source": [
    "X_train"
   ]
  },
  {
   "cell_type": "code",
   "execution_count": 288,
   "metadata": {},
   "outputs": [
    {
     "data": {
      "text/plain": [
       "0.3443202808319147"
      ]
     },
     "execution_count": 288,
     "metadata": {},
     "output_type": "execute_result"
    }
   ],
   "source": [
    "np.random.seed(42)\n",
    "rgr = RandomForestRegressor()\n",
    "rgr.fit(X_train, y_train)\n",
    "rgr_pred = rgr.predict(X_test)\n",
    "mean_squared_error(rgr_pred, y_test)"
   ]
  },
  {
   "cell_type": "code",
   "execution_count": 304,
   "metadata": {},
   "outputs": [
    {
     "data": {
      "image/png": "[encoded data removed]",
      "text/plain": [
       "<Figure size 432x288 with 1 Axes>"
      ]
     },
     "metadata": {
      "needs_background": "light"
     },
     "output_type": "display_data"
    }
   ],
   "source": [
    "# Наиболее важные фичи\n",
    "fi = rgr.feature_importances_\n",
    "\n",
    "plt.figure()\n",
    "plt.title(\"Feature importance\")\n",
    "plt.bar(range(1, len(fi)+1), fi)\n",
    "plt.xticks(range(1, len(fi)+1), X_train.columns.tolist(), rotation=75)\n",
    "plt.show()"
   ]
  },
  {
   "cell_type": "code",
   "execution_count": null,
   "metadata": {},
   "outputs": [],
   "source": []
  }
 ],
 "metadata": {
  "kernelspec": {
   "display_name": "Python 3",
   "language": "python",
   "name": "python3"
  },
  "language_info": {
   "codemirror_mode": {
    "name": "ipython",
    "version": 3
   },
   "file_extension": ".py",
   "mimetype": "text/x-python",
   "name": "python",
   "nbconvert_exporter": "python",
   "pygments_lexer": "ipython3",
   "version": "3.7.4"
  }
 },
 "nbformat": 4,
 "nbformat_minor": 2
}
