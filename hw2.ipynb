{
 "cells": [
  {
   "cell_type": "markdown",
   "metadata": {},
   "source": [
    "## 1. Матрица Вандермонда (10 баллов)"
   ]
  },
  {
   "cell_type": "markdown",
   "metadata": {},
   "source": [
    "Напишите функцию, генерирующую матрицу [Вандермонда](https://ru.wikipedia.org/wiki/Определитель_Вандермонда), принемающую на вход вектор $(𝑥_1,...,𝑥_𝑛)$ .\n",
    "В этом задании запрещается пользоваться готовыми реализациями (например, numpy.vander), а также np.repeat и np.transpose.\n",
    "При решение задействуйте np.reshape и/или np.newaxis."
   ]
  },
  {
   "cell_type": "code",
   "execution_count": 1,
   "metadata": {},
   "outputs": [],
   "source": [
    "import numpy as np\n",
    "import requests\n",
    "from bs4 import BeautifulSoup\n",
    "import pandas as pd\n",
    "import datetime\n",
    "import matplotlib.pyplot as plt\n",
    "import seaborn as sns\n",
    "import time\n",
    "from tqdm import tqdm\n",
    "import seaborn as sns\n",
    "import datetime"
   ]
  },
  {
   "cell_type": "code",
   "execution_count": 2,
   "metadata": {},
   "outputs": [],
   "source": [
    "def vandermond(a: np.array):\n",
    "    b = np.arange(0, len(a))\n",
    "    vand_matrix = a ** b[:, np.newaxis]\n",
    "    return vand_matrix"
   ]
  },
  {
   "cell_type": "code",
   "execution_count": 3,
   "metadata": {},
   "outputs": [],
   "source": [
    "# Использует вложенный цикл\n",
    "\n",
    "# def vandermond(a: np.array):\n",
    "#     vand_matrix = np.reshape([a ** i for i in range(len(a))], (len(a), len(a)))\n",
    "#     return vand_matrix"
   ]
  },
  {
   "cell_type": "code",
   "execution_count": 4,
   "metadata": {},
   "outputs": [
    {
     "data": {
      "text/plain": [
       "array([[ 1,  1,  1,  1],\n",
       "       [ 1,  2,  3,  4],\n",
       "       [ 1,  4,  9, 16],\n",
       "       [ 1,  8, 27, 64]])"
      ]
     },
     "execution_count": 4,
     "metadata": {},
     "output_type": "execute_result"
    }
   ],
   "source": [
    "#a = np.array(list(map(float, input().split())))\n",
    "#vandermond(a)\n",
    "vandermond(np.array([1, 2, 3, 4]))"
   ]
  },
  {
   "cell_type": "markdown",
   "metadata": {},
   "source": [
    "## 2. Марафон (30 баллов)"
   ]
  },
  {
   "cell_type": "markdown",
   "metadata": {},
   "source": [
    "#### История\n",
    "Как-то раз Винни-Пух, Пятачок, Кролик и Иа-Иа решили пробежать марафон. Они договорились бежать $n$ часов. Побеждает тот, кто пробегает за эти $n$ часов больше всего километров. Каждый участник бежит по-разному, то сколько он пробежит за один час поддается одному из законов распределений. Например, если имеется равномерное распределение $U[1,3]$, то участник может пробежать за первый час 1.3км, за второй 2.4км и так далее.\n",
    "\n",
    "* Винни-Пух в целом может пробежать достаточно много, но с большой вероятностью останавливается покушать мёда и пробегает мало. Его закон распределения это показательное распределение с $\\lambda = 1$.\n",
    "* Пятачок бежит в одном темпе и старается пробегать приблизительно одинаковую дистанцию. Изредка, он может перепутать направление и немного пробежать не в ту сторону. Его закон распределения это нормальное распределение $N(1, 1)$.\n",
    "* Кролик - перфекционист. Он бежит целое количество киллометров. Если он понимает, что за оставшееся время он уже не пробежит еще один километр, то он останавливается и ждет следующий час. Его закон распределения это распределение Пуассона с $\\lambda = 1$.\n",
    "* Иа-Иа в течение часа может грустить с вероятностью 0.5 и пробжеать 0 километров или быть очень веселым (с вероятностью 0.5) и пробежать 2 километра. Его закон распределения это распределение Бернулли.\n",
    "\n",
    "#### Задание №1\n",
    "\n",
    "Вам нужно: \n",
    "* Создать трехмерную матрицу размера $10^4 \\times 4 \\times n$. Первая ось отвечает за номер марафона, вторая ось за каждого участника, а третья ось за каждый час марафона. Вторую и третью ось можно поменять, если вам так удобнее.\n",
    "* Выявить победителя в каждом из $10^4$ марафонов. \n",
    "* Нарисовать столбчатую диаграмму, на которой будет видно кто и сколько раз побеждал в марафоне.\n",
    "* Запрещено пользоваться циклами. Нужно использовать возможности numpy.\n",
    "\n",
    "Что можно сказать о результатах?\n",
    "\n",
    "#### Задание №2\n",
    " \n",
    "Участники решили объединиться в пары: Винни-Пух с Пятачком, Кролик с Иа-Иа. Они решили суммировать свои результаты.\n",
    "\n",
    "Вам нужно: \n",
    "* Сгенерировать новую трехмерную матрицу, но уже объединив участников в команды.\n",
    "* Выявить команду-победителя в каждом из $10^4$ марафонов. \n",
    "* Нарисовать столбчатую диаграмму, на которой будет видно кто и сколько раз побеждал в марафоне.\n",
    "\n",
    "Логичны ли полученные результаты?"
   ]
  },
  {
   "cell_type": "code",
   "execution_count": 5,
   "metadata": {},
   "outputs": [],
   "source": [
    "def marathon(n):  # функция от n создает матрицу 10000 X n X 4\n",
    "    wp = np.random.exponential(scale=1, size=(10000, n))\n",
    "    pyat = np.random.normal(loc=1, scale=1, size=(10000, n))\n",
    "    krol = np.random.poisson(lam=1, size=(10000, n))\n",
    "    iaia = np.random.choice([0, 2], p=[0.5, 0.5], size=(10000, n))\n",
    "    return np.array([wp, pyat, krol, iaia])"
   ]
  },
  {
   "cell_type": "code",
   "execution_count": 6,
   "metadata": {},
   "outputs": [
    {
     "data": {
      "text/plain": [
       "array([[0.27500237, 1.50804391],\n",
       "       [0.65007473, 0.54530072],\n",
       "       [0.        , 0.        ],\n",
       "       [0.        , 0.        ]])"
      ]
     },
     "execution_count": 6,
     "metadata": {},
     "output_type": "execute_result"
    }
   ],
   "source": [
    "mar0 = marathon(2)[:, 0] # пример того, как первый(нулевой) двухчасовой марафон пробежал каждый участник\n",
    "mar0"
   ]
  },
  {
   "cell_type": "code",
   "execution_count": 7,
   "metadata": {},
   "outputs": [
    {
     "data": {
      "text/plain": [
       "array([1.78304629, 1.19537545, 0.        , 0.        ])"
      ]
     },
     "execution_count": 7,
     "metadata": {},
     "output_type": "execute_result"
    }
   ],
   "source": [
    "a = np.sum(mar0, axis=1)\n",
    "a"
   ]
  },
  {
   "cell_type": "code",
   "execution_count": 8,
   "metadata": {},
   "outputs": [
    {
     "data": {
      "text/plain": [
       "0"
      ]
     },
     "execution_count": 8,
     "metadata": {},
     "output_type": "execute_result"
    }
   ],
   "source": [
    "list(a).index(max(a))"
   ]
  },
  {
   "cell_type": "code",
   "execution_count": 9,
   "metadata": {},
   "outputs": [],
   "source": [
    "mar = marathon(100)"
   ]
  },
  {
   "cell_type": "code",
   "execution_count": 10,
   "metadata": {},
   "outputs": [],
   "source": [
    "d = {'0': 'Winni-Pooh', '1': 'Pyatachok', '2': 'Krolik', '3': 'Ia-Ia'}"
   ]
  },
  {
   "cell_type": "code",
   "execution_count": 11,
   "metadata": {},
   "outputs": [
    {
     "data": {
      "text/plain": [
       "array([ 90.85563617,  91.68303622, 117.        , 108.        ])"
      ]
     },
     "execution_count": 11,
     "metadata": {},
     "output_type": "execute_result"
    }
   ],
   "source": [
    "np.sum(mar[:, 0], axis=1)"
   ]
  },
  {
   "cell_type": "code",
   "execution_count": 12,
   "metadata": {},
   "outputs": [],
   "source": [
    "winners = [d[str(list(np.sum(mar[:, n], axis=1)).index(max(np.sum(mar[:, n], axis=1))))] for n in range(len(mar[0]))]"
   ]
  },
  {
   "cell_type": "code",
   "execution_count": 13,
   "metadata": {},
   "outputs": [],
   "source": [
    "y_pos = np.arange(4)"
   ]
  },
  {
   "cell_type": "code",
   "execution_count": 14,
   "metadata": {},
   "outputs": [
    {
     "data": {
      "text/plain": [
       "Text(0, 0.5, 'количество побед в забеге')"
      ]
     },
     "execution_count": 14,
     "metadata": {},
     "output_type": "execute_result"
    },
    {
     "data": {
      "image/png": "[encoded data removed]",
      "text/plain": [
       "<Figure size 432x288 with 1 Axes>"
      ]
     },
     "metadata": {
      "needs_background": "light"
     },
     "output_type": "display_data"
    }
   ],
   "source": [
    "#colors = ['r', 'y', 'b', 'g']\n",
    "plt.hist(winners, bins=4)\n",
    "plt.title('Победы в забегах')\n",
    "plt.xlabel('участник')\n",
    "plt.ylabel('количество побед в забеге')"
   ]
  },
  {
   "cell_type": "markdown",
   "metadata": {},
   "source": [
    "Количество побед при двухчасовых/пятичасовых/десятичасовых/сточасовых забегах распределено относительно близко к равномерному среди распределений. \n",
    "При повышении количества часов в забеге, количество побеед распределяется более равномерно(большие выборки более репрезентативны для законов)."
   ]
  },
  {
   "cell_type": "code",
   "execution_count": 15,
   "metadata": {},
   "outputs": [],
   "source": [
    "def team_marathon(n):\n",
    "    wp = np.random.exponential(scale=1, size=(10000, n))\n",
    "    pyat = np.random.normal(loc=1, scale=1, size=(10000, n))\n",
    "    krol = np.random.poisson(lam=1, size=(10000, n))\n",
    "    iaia = np.random.choice([0, 2], p=[0.5, 0.5], size=(10000, n))\n",
    "    return np.array([wp + pyat, krol + iaia])"
   ]
  },
  {
   "cell_type": "code",
   "execution_count": 16,
   "metadata": {},
   "outputs": [
    {
     "data": {
      "text/plain": [
       "array([[[ 1.75258161,  0.36635849],\n",
       "        [ 4.38961197,  2.532881  ],\n",
       "        [ 4.5874091 ,  1.29934895],\n",
       "        ...,\n",
       "        [ 0.9348159 ,  1.19241866],\n",
       "        [ 3.03912276,  2.77542893],\n",
       "        [-0.71074896,  1.19958007]],\n",
       "\n",
       "       [[ 4.        ,  3.        ],\n",
       "        [ 0.        ,  4.        ],\n",
       "        [ 1.        ,  1.        ],\n",
       "        ...,\n",
       "        [ 1.        ,  2.        ],\n",
       "        [ 2.        ,  2.        ],\n",
       "        [ 4.        ,  2.        ]]])"
      ]
     },
     "execution_count": 16,
     "metadata": {},
     "output_type": "execute_result"
    }
   ],
   "source": [
    "team_marathon(2) # Пример результатов для команд при двухчасовом забеге"
   ]
  },
  {
   "cell_type": "code",
   "execution_count": 17,
   "metadata": {},
   "outputs": [],
   "source": [
    "d = {'0': 'Winni-Pooh + Pyatachok', '1': 'Krolik + Ia-Ia'}"
   ]
  },
  {
   "cell_type": "code",
   "execution_count": 18,
   "metadata": {},
   "outputs": [],
   "source": [
    "team__mar = team_marathon(100)"
   ]
  },
  {
   "cell_type": "code",
   "execution_count": 19,
   "metadata": {},
   "outputs": [],
   "source": [
    "team_winners = [d[str(list(np.sum(team__mar[:, n], axis=1)).index(max(np.sum(team__mar[:, n], axis=1))))] for n in range(len(team__mar[0]))]"
   ]
  },
  {
   "cell_type": "code",
   "execution_count": 20,
   "metadata": {},
   "outputs": [
    {
     "data": {
      "text/plain": [
       "Text(0, 0.5, 'количество побед в забеге')"
      ]
     },
     "execution_count": 20,
     "metadata": {},
     "output_type": "execute_result"
    },
    {
     "data": {
      "image/png": "[encoded data removed]",
      "text/plain": [
       "<Figure size 432x288 with 1 Axes>"
      ]
     },
     "metadata": {
      "needs_background": "light"
     },
     "output_type": "display_data"
    }
   ],
   "source": [
    "#colors = ['r', 'y', 'b', 'g']\n",
    "plt.hist(team_winners, bins=2)\n",
    "plt.title('Победы в командных забегах')\n",
    "plt.xlabel('команда')\n",
    "plt.ylabel('количество побед в забеге')"
   ]
  },
  {
   "cell_type": "markdown",
   "metadata": {},
   "source": [
    "Количество побед при двухчасовых/десятичасовых/сточасовых командных забегах(для суммы результатов) распределено относительно близко к равномерному среди распределений. При повышении количества часов в забеге, количество побеед распределяется более равномерно(большие выборки более репрезентативны для законов). При меньших значениях n(длина забега), в большинстве случаев, количество побед для команды 'Кролик и Иа-Иа', в среднем, немного больше(в пределах 2%)."
   ]
  },
  {
   "cell_type": "markdown",
   "metadata": {},
   "source": [
    "## 3. Avito (30 баллов)"
   ]
  },
  {
   "cell_type": "markdown",
   "metadata": {},
   "source": [
    "В этом задании вам нужно будет написать функцию, которая парсит [Авито](https://www.avito.ru) (будем рассматривать только Москву). Эта функция принимает два параметра:\n",
    "* search - то, что мы ищем на avito\n",
    "* page - номер страницы, с которой парсим информацию\n",
    "\n",
    "```python\n",
    "def parse_page(search, page):\n",
    "    # тут ваш код\n",
    "df = parse_page('гречка', 4)\n",
    "```\n",
    "Нужно скачать следующую информацию:\n",
    "* название объявления\n",
    "* ссылка на объявление\n",
    "* цена\n",
    "* метро (если есть), вам нужно аккуратно обрабатывать None или использовать конструкцию try-except\n",
    "* сколько метров от метро (если есть)\n",
    "\n",
    "Эту информацию лучше сохранить в виде pandas df.\n",
    "\n",
    "В данном задании **не нужно** парсить все страницы (вас могут забанить). Нужно лишь сделать функцию, которая парсит одну страницу. Чтобы вас не забанили сделаейте request один раз и работайте с вашей страничкой без функции. После того как все будет готово, оберните весь ваш код в функцию."
   ]
  },
  {
   "cell_type": "code",
   "execution_count": 21,
   "metadata": {},
   "outputs": [],
   "source": [
    "# import requests\n",
    "# from bs4 import BeautifulSoup\n",
    "# import pandas as pd"
   ]
  },
  {
   "cell_type": "code",
   "execution_count": 22,
   "metadata": {},
   "outputs": [],
   "source": [
    "def tometer(text):\n",
    "    if text[len(text)-2] == 'к':\n",
    "        return float(text.strip('\\xa0км').replace(',', '.'))*1000\n",
    "    elif text[len(text)-1] == 'м' and text[len(text)-2]=='\\xa0':\n",
    "        return float(text.strip('\\xa0м').replace(',', '.'))\n",
    "    else:\n",
    "        return None"
   ]
  },
  {
   "cell_type": "code",
   "execution_count": 23,
   "metadata": {},
   "outputs": [],
   "source": [
    "def to_rub(text):\n",
    "    if text == 'Бесплатно':\n",
    "        return 0\n",
    "    elif text == 'Цена не указана':\n",
    "        return None\n",
    "    else:\n",
    "        try: \n",
    "            return float(''.join(text.strip().strip('  ₽').split()).replace(',', '.'))\n",
    "        except:\n",
    "            return None"
   ]
  },
  {
   "cell_type": "code",
   "execution_count": 24,
   "metadata": {},
   "outputs": [],
   "source": [
    "def parse_page(search, page):\n",
    "    url = 'https://www.avito.ru/moskva?q={}&p={}'.format(str(search), int(page))\n",
    "    res = requests.get(url)\n",
    "    cont = res.content\n",
    "    tree = BeautifulSoup(cont)\n",
    "    \n",
    "    # найдем нужные признаки\n",
    "    obj = tree.find_all('div', {'class': 'snippet-title-row'})\n",
    "    price0 = tree.find_all('div', {'class': 'snippet-price-row'})\n",
    "    adress = tree.find_all('div', {'class': 'item-address-georeferences'})\n",
    "    \n",
    "    soup_adress = BeautifulSoup(str(adress), 'html.parser')\n",
    "    metro0 = soup_adress.find_all('span', {'class': 'item-address-georeferences-item__content'})\n",
    "    dist0 = soup_adress.find_all('span', {'class': 'item-address-georeferences-item__after'})\n",
    "    \n",
    "    \n",
    "    # распарсим данные и получим чистые массивы\n",
    "    name = []\n",
    "    link = []\n",
    "    price = []\n",
    "    metro = []\n",
    "    dist = []\n",
    "    m_cnt = 0\n",
    "    d_cnt = 0\n",
    "\n",
    "    for x in range(len(obj)):\n",
    "        name.append(obj[x].text)\n",
    "        link.append('https://www.avito.ru' + BeautifulSoup(str(obj[x])).a['href'])\n",
    "        price.append(to_rub(price0[x].text.strip().strip('  ₽')))\n",
    "        if 'item-address-georeferences-item__content' in str(adress[x].span):\n",
    "            metro.append(str(metro0[m_cnt].text))\n",
    "            m_cnt += 1\n",
    "            if 'item-address-georeferences-item__after' in str(adress[x].span):\n",
    "                dist.append(tometer(dist0[d_cnt].text))\n",
    "                d_cnt += 1\n",
    "            else:\n",
    "                dist.append(None)\n",
    "        else:\n",
    "            metro.append(None)\n",
    "            dist.append(None)\n",
    "    \n",
    "    # создадим DataFrame\n",
    "    data = {'name': name, 'link': link, 'price (rub)': price, 'metro': metro, 'dist (m)': dist}\n",
    "    df = pd.DataFrame(data)\n",
    "    df = df.dropna()\n",
    "    return df"
   ]
  },
  {
   "cell_type": "code",
   "execution_count": 25,
   "metadata": {},
   "outputs": [
    {
     "data": {
      "text/html": [
       "<div>\n",
       "<style scoped>\n",
       "    .dataframe tbody tr th:only-of-type {\n",
       "        vertical-align: middle;\n",
       "    }\n",
       "\n",
       "    .dataframe tbody tr th {\n",
       "        vertical-align: top;\n",
       "    }\n",
       "\n",
       "    .dataframe thead th {\n",
       "        text-align: right;\n",
       "    }\n",
       "</style>\n",
       "<table border=\"1\" class=\"dataframe\">\n",
       "  <thead>\n",
       "    <tr style=\"text-align: right;\">\n",
       "      <th></th>\n",
       "      <th>name</th>\n",
       "      <th>link</th>\n",
       "      <th>price (rub)</th>\n",
       "      <th>metro</th>\n",
       "      <th>dist (m)</th>\n",
       "    </tr>\n",
       "  </thead>\n",
       "  <tbody>\n",
       "    <tr>\n",
       "      <td>0</td>\n",
       "      <td>Бесплатно брошь новая</td>\n",
       "      <td>https://www.avito.ru/moskva/chasy_i_ukrasheniy...</td>\n",
       "      <td>0.0</td>\n",
       "      <td>Солнцево</td>\n",
       "      <td>800.0</td>\n",
       "    </tr>\n",
       "    <tr>\n",
       "      <td>1</td>\n",
       "      <td>Бесплатно книга азбука любви для девочек</td>\n",
       "      <td>https://www.avito.ru/moskva/knigi_i_zhurnaly/b...</td>\n",
       "      <td>0.0</td>\n",
       "      <td>Солнцево</td>\n",
       "      <td>800.0</td>\n",
       "    </tr>\n",
       "    <tr>\n",
       "      <td>2</td>\n",
       "      <td>Бесплатно брошь новая</td>\n",
       "      <td>https://www.avito.ru/moskva/chasy_i_ukrasheniy...</td>\n",
       "      <td>0.0</td>\n",
       "      <td>Солнцево</td>\n",
       "      <td>800.0</td>\n",
       "    </tr>\n",
       "    <tr>\n",
       "      <td>5</td>\n",
       "      <td>Гречишный чай 100 гр</td>\n",
       "      <td>https://www.avito.ru/moskva/produkty_pitaniya/...</td>\n",
       "      <td>200.0</td>\n",
       "      <td>Кантемировская</td>\n",
       "      <td>400.0</td>\n",
       "    </tr>\n",
       "    <tr>\n",
       "      <td>7</td>\n",
       "      <td>Индейка, куры, утки, гуси, яйца, творог, сыры</td>\n",
       "      <td>https://www.avito.ru/moskva/produkty_pitaniya/...</td>\n",
       "      <td>300.0</td>\n",
       "      <td>Площадь революции</td>\n",
       "      <td>400.0</td>\n",
       "    </tr>\n",
       "    <tr>\n",
       "      <td>8</td>\n",
       "      <td>Suzuki vl800 intruder</td>\n",
       "      <td>https://www.avito.ru/moskva/mototsikly_i_motot...</td>\n",
       "      <td>295000.0</td>\n",
       "      <td>Сухаревская</td>\n",
       "      <td>200.0</td>\n",
       "    </tr>\n",
       "    <tr>\n",
       "      <td>9</td>\n",
       "      <td>Сухие пайки ирп мчс России свежак до 03.22г</td>\n",
       "      <td>https://www.avito.ru/moskva/produkty_pitaniya/...</td>\n",
       "      <td>436.0</td>\n",
       "      <td>Новогиреево</td>\n",
       "      <td>1100.0</td>\n",
       "    </tr>\n",
       "    <tr>\n",
       "      <td>10</td>\n",
       "      <td>Сам себе диетолог (2018) бахтина</td>\n",
       "      <td>https://www.avito.ru/moskva/audio_i_video/sam_...</td>\n",
       "      <td>130.0</td>\n",
       "      <td>Охотный ряд</td>\n",
       "      <td>200.0</td>\n",
       "    </tr>\n",
       "    <tr>\n",
       "      <td>11</td>\n",
       "      <td>Мультиварка mayer&amp;boch MB-10741</td>\n",
       "      <td>https://www.avito.ru/moskva/bytovaya_tehnika/m...</td>\n",
       "      <td>1200.0</td>\n",
       "      <td>Марьино</td>\n",
       "      <td>100.0</td>\n",
       "    </tr>\n",
       "    <tr>\n",
       "      <td>14</td>\n",
       "      <td>Сухой паёк ирп свежый 06.05.20г. выпуска</td>\n",
       "      <td>https://www.avito.ru/moskva/sport_i_otdyh/suho...</td>\n",
       "      <td>399.0</td>\n",
       "      <td>Охотный ряд</td>\n",
       "      <td>200.0</td>\n",
       "    </tr>\n",
       "    <tr>\n",
       "      <td>16</td>\n",
       "      <td>Пп по контейнерам (Юлия Верхоглядова)</td>\n",
       "      <td>https://www.avito.ru/moskva/audio_i_video/pp_p...</td>\n",
       "      <td>200.0</td>\n",
       "      <td>Деловой центр</td>\n",
       "      <td>100.0</td>\n",
       "    </tr>\n",
       "    <tr>\n",
       "      <td>17</td>\n",
       "      <td>Набор для малыша</td>\n",
       "      <td>https://www.avito.ru/moskva/tovary_dlya_detey_...</td>\n",
       "      <td>1500.0</td>\n",
       "      <td>Шипиловская</td>\n",
       "      <td>1100.0</td>\n",
       "    </tr>\n",
       "    <tr>\n",
       "      <td>18</td>\n",
       "      <td>Каши</td>\n",
       "      <td>https://www.avito.ru/moskva/tovary_dlya_detey_...</td>\n",
       "      <td>50.0</td>\n",
       "      <td>Селигерская</td>\n",
       "      <td>2100.0</td>\n",
       "    </tr>\n",
       "    <tr>\n",
       "      <td>19</td>\n",
       "      <td>Гвозди</td>\n",
       "      <td>https://www.avito.ru/moskva/remont_i_stroitels...</td>\n",
       "      <td>50.0</td>\n",
       "      <td>Коптево</td>\n",
       "      <td>1000.0</td>\n",
       "    </tr>\n",
       "    <tr>\n",
       "      <td>20</td>\n",
       "      <td>Детские каши</td>\n",
       "      <td>https://www.avito.ru/moskva/tovary_dlya_detey_...</td>\n",
       "      <td>50.0</td>\n",
       "      <td>Бульвар Дмитрия Донского</td>\n",
       "      <td>100.0</td>\n",
       "    </tr>\n",
       "    <tr>\n",
       "      <td>21</td>\n",
       "      <td>Тележечник/ца-вахта от 15 смен-питание</td>\n",
       "      <td>https://www.avito.ru/moskva/vakansii/telezhech...</td>\n",
       "      <td>65777.0</td>\n",
       "      <td>Беговая</td>\n",
       "      <td>400.0</td>\n",
       "    </tr>\n",
       "    <tr>\n",
       "      <td>23</td>\n",
       "      <td>Каши</td>\n",
       "      <td>https://www.avito.ru/moskva/tovary_dlya_detey_...</td>\n",
       "      <td>75.0</td>\n",
       "      <td>Свиблово</td>\n",
       "      <td>200.0</td>\n",
       "    </tr>\n",
       "    <tr>\n",
       "      <td>24</td>\n",
       "      <td>Мукамолка</td>\n",
       "      <td>https://www.avito.ru/moskva/bytovaya_tehnika/m...</td>\n",
       "      <td>40000.0</td>\n",
       "      <td>Отрадное</td>\n",
       "      <td>1800.0</td>\n",
       "    </tr>\n",
       "    <tr>\n",
       "      <td>25</td>\n",
       "      <td>Бортики в кроватку</td>\n",
       "      <td>https://www.avito.ru/moskva/tovary_dlya_detey_...</td>\n",
       "      <td>500.0</td>\n",
       "      <td>Нахимовский проспект</td>\n",
       "      <td>1600.0</td>\n",
       "    </tr>\n",
       "    <tr>\n",
       "      <td>27</td>\n",
       "      <td>Skoda Octavia, 2006</td>\n",
       "      <td>https://www.avito.ru/moskva/avtomobili/skoda_o...</td>\n",
       "      <td>350000.0</td>\n",
       "      <td>Волоколамская</td>\n",
       "      <td>800.0</td>\n",
       "    </tr>\n",
       "    <tr>\n",
       "      <td>28</td>\n",
       "      <td>Oukitel WP2 4/64 GB</td>\n",
       "      <td>https://www.avito.ru/moskva/telefony/oukitel_w...</td>\n",
       "      <td>13000.0</td>\n",
       "      <td>Коломенская</td>\n",
       "      <td>700.0</td>\n",
       "    </tr>\n",
       "    <tr>\n",
       "      <td>29</td>\n",
       "      <td>Тушенка</td>\n",
       "      <td>https://www.avito.ru/moskva/produkty_pitaniya/...</td>\n",
       "      <td>200.0</td>\n",
       "      <td>Павелецкая</td>\n",
       "      <td>300.0</td>\n",
       "    </tr>\n",
       "    <tr>\n",
       "      <td>30</td>\n",
       "      <td>Грызунки/слингобусы</td>\n",
       "      <td>https://www.avito.ru/moskva/tovary_dlya_detey_...</td>\n",
       "      <td>600.0</td>\n",
       "      <td>Щелковская</td>\n",
       "      <td>2500.0</td>\n",
       "    </tr>\n",
       "    <tr>\n",
       "      <td>31</td>\n",
       "      <td>Барбекю - гриль - мангал</td>\n",
       "      <td>https://www.avito.ru/moskva/sport_i_otdyh/barb...</td>\n",
       "      <td>1750.0</td>\n",
       "      <td>Домодедовская</td>\n",
       "      <td>800.0</td>\n",
       "    </tr>\n",
       "    <tr>\n",
       "      <td>34</td>\n",
       "      <td>Доставка продуктов питания</td>\n",
       "      <td>https://www.avito.ru/moskva/predlozheniya_uslu...</td>\n",
       "      <td>300.0</td>\n",
       "      <td>Площадь революции</td>\n",
       "      <td>400.0</td>\n",
       "    </tr>\n",
       "    <tr>\n",
       "      <td>36</td>\n",
       "      <td>Каши</td>\n",
       "      <td>https://www.avito.ru/moskva/tovary_dlya_detey_...</td>\n",
       "      <td>45.0</td>\n",
       "      <td>Бульвар адмирала Ушакова</td>\n",
       "      <td>300.0</td>\n",
       "    </tr>\n",
       "    <tr>\n",
       "      <td>41</td>\n",
       "      <td>Меланжер Kadzama на 7кг CE версия</td>\n",
       "      <td>https://www.avito.ru/moskva/oborudovanie_dlya_...</td>\n",
       "      <td>140000.0</td>\n",
       "      <td>Медведково</td>\n",
       "      <td>1200.0</td>\n",
       "    </tr>\n",
       "    <tr>\n",
       "      <td>43</td>\n",
       "      <td>Сухой паёк ирп свежый 06.05.20г. выпуска</td>\n",
       "      <td>https://www.avito.ru/moskva/sport_i_otdyh/suho...</td>\n",
       "      <td>399.0</td>\n",
       "      <td>Охотный ряд</td>\n",
       "      <td>200.0</td>\n",
       "    </tr>\n",
       "    <tr>\n",
       "      <td>44</td>\n",
       "      <td>Индейка, куры, утки, гуси, яйца, творог, сыры</td>\n",
       "      <td>https://www.avito.ru/moskva/produkty_pitaniya/...</td>\n",
       "      <td>300.0</td>\n",
       "      <td>Площадь революции</td>\n",
       "      <td>400.0</td>\n",
       "    </tr>\n",
       "    <tr>\n",
       "      <td>45</td>\n",
       "      <td>Рисоварка Panasonic</td>\n",
       "      <td>https://www.avito.ru/moskva/bytovaya_tehnika/r...</td>\n",
       "      <td>1000.0</td>\n",
       "      <td>Пролетарская</td>\n",
       "      <td>100.0</td>\n",
       "    </tr>\n",
       "    <tr>\n",
       "      <td>47</td>\n",
       "      <td>Правильное питание/приучение к питанию</td>\n",
       "      <td>https://www.avito.ru/moskva/predlozheniya_uslu...</td>\n",
       "      <td>750.0</td>\n",
       "      <td>Белорусская</td>\n",
       "      <td>300.0</td>\n",
       "    </tr>\n",
       "    <tr>\n",
       "      <td>48</td>\n",
       "      <td>Каши агуша</td>\n",
       "      <td>https://www.avito.ru/moskva/tovary_dlya_detey_...</td>\n",
       "      <td>60.0</td>\n",
       "      <td>Преображенская площадь</td>\n",
       "      <td>100.0</td>\n",
       "    </tr>\n",
       "    <tr>\n",
       "      <td>51</td>\n",
       "      <td>Бармен-официант</td>\n",
       "      <td>https://www.avito.ru/moskva/vakansii/barmen-of...</td>\n",
       "      <td>1500.0</td>\n",
       "      <td>Дмитровская</td>\n",
       "      <td>500.0</td>\n",
       "    </tr>\n",
       "    <tr>\n",
       "      <td>52</td>\n",
       "      <td>Кашеварка Cuckoo CR-0632</td>\n",
       "      <td>https://www.avito.ru/moskva/bytovaya_tehnika/k...</td>\n",
       "      <td>1800.0</td>\n",
       "      <td>ВДНХ</td>\n",
       "      <td>500.0</td>\n",
       "    </tr>\n",
       "    <tr>\n",
       "      <td>53</td>\n",
       "      <td>Жестяные и пластиковые банки из СССР и совр</td>\n",
       "      <td>https://www.avito.ru/moskva/kollektsionirovani...</td>\n",
       "      <td>49.0</td>\n",
       "      <td>Улица Дмитриевского</td>\n",
       "      <td>1400.0</td>\n",
       "    </tr>\n",
       "  </tbody>\n",
       "</table>\n",
       "</div>"
      ],
      "text/plain": [
       "                                             name  \\\n",
       "0                           Бесплатно брошь новая   \n",
       "1        Бесплатно книга азбука любви для девочек   \n",
       "2                           Бесплатно брошь новая   \n",
       "5                            Гречишный чай 100 гр   \n",
       "7   Индейка, куры, утки, гуси, яйца, творог, сыры   \n",
       "8                           Suzuki vl800 intruder   \n",
       "9     Сухие пайки ирп мчс России свежак до 03.22г   \n",
       "10               Сам себе диетолог (2018) бахтина   \n",
       "11                Мультиварка mayer&boch MB-10741   \n",
       "14       Сухой паёк ирп свежый 06.05.20г. выпуска   \n",
       "16          Пп по контейнерам (Юлия Верхоглядова)   \n",
       "17                               Набор для малыша   \n",
       "18                                           Каши   \n",
       "19                                         Гвозди   \n",
       "20                                   Детские каши   \n",
       "21         Тележечник/ца-вахта от 15 смен-питание   \n",
       "23                                           Каши   \n",
       "24                                      Мукамолка   \n",
       "25                             Бортики в кроватку   \n",
       "27                            Skoda Octavia, 2006   \n",
       "28                            Oukitel WP2 4/64 GB   \n",
       "29                                        Тушенка   \n",
       "30                            Грызунки/слингобусы   \n",
       "31                       Барбекю - гриль - мангал   \n",
       "34                     Доставка продуктов питания   \n",
       "36                                           Каши   \n",
       "41              Меланжер Kadzama на 7кг CE версия   \n",
       "43       Сухой паёк ирп свежый 06.05.20г. выпуска   \n",
       "44  Индейка, куры, утки, гуси, яйца, творог, сыры   \n",
       "45                            Рисоварка Panasonic   \n",
       "47         Правильное питание/приучение к питанию   \n",
       "48                                     Каши агуша   \n",
       "51                                Бармен-официант   \n",
       "52                       Кашеварка Cuckoo CR-0632   \n",
       "53    Жестяные и пластиковые банки из СССР и совр   \n",
       "\n",
       "                                                 link  price (rub)  \\\n",
       "0   https://www.avito.ru/moskva/chasy_i_ukrasheniy...          0.0   \n",
       "1   https://www.avito.ru/moskva/knigi_i_zhurnaly/b...          0.0   \n",
       "2   https://www.avito.ru/moskva/chasy_i_ukrasheniy...          0.0   \n",
       "5   https://www.avito.ru/moskva/produkty_pitaniya/...        200.0   \n",
       "7   https://www.avito.ru/moskva/produkty_pitaniya/...        300.0   \n",
       "8   https://www.avito.ru/moskva/mototsikly_i_motot...     295000.0   \n",
       "9   https://www.avito.ru/moskva/produkty_pitaniya/...        436.0   \n",
       "10  https://www.avito.ru/moskva/audio_i_video/sam_...        130.0   \n",
       "11  https://www.avito.ru/moskva/bytovaya_tehnika/m...       1200.0   \n",
       "14  https://www.avito.ru/moskva/sport_i_otdyh/suho...        399.0   \n",
       "16  https://www.avito.ru/moskva/audio_i_video/pp_p...        200.0   \n",
       "17  https://www.avito.ru/moskva/tovary_dlya_detey_...       1500.0   \n",
       "18  https://www.avito.ru/moskva/tovary_dlya_detey_...         50.0   \n",
       "19  https://www.avito.ru/moskva/remont_i_stroitels...         50.0   \n",
       "20  https://www.avito.ru/moskva/tovary_dlya_detey_...         50.0   \n",
       "21  https://www.avito.ru/moskva/vakansii/telezhech...      65777.0   \n",
       "23  https://www.avito.ru/moskva/tovary_dlya_detey_...         75.0   \n",
       "24  https://www.avito.ru/moskva/bytovaya_tehnika/m...      40000.0   \n",
       "25  https://www.avito.ru/moskva/tovary_dlya_detey_...        500.0   \n",
       "27  https://www.avito.ru/moskva/avtomobili/skoda_o...     350000.0   \n",
       "28  https://www.avito.ru/moskva/telefony/oukitel_w...      13000.0   \n",
       "29  https://www.avito.ru/moskva/produkty_pitaniya/...        200.0   \n",
       "30  https://www.avito.ru/moskva/tovary_dlya_detey_...        600.0   \n",
       "31  https://www.avito.ru/moskva/sport_i_otdyh/barb...       1750.0   \n",
       "34  https://www.avito.ru/moskva/predlozheniya_uslu...        300.0   \n",
       "36  https://www.avito.ru/moskva/tovary_dlya_detey_...         45.0   \n",
       "41  https://www.avito.ru/moskva/oborudovanie_dlya_...     140000.0   \n",
       "43  https://www.avito.ru/moskva/sport_i_otdyh/suho...        399.0   \n",
       "44  https://www.avito.ru/moskva/produkty_pitaniya/...        300.0   \n",
       "45  https://www.avito.ru/moskva/bytovaya_tehnika/r...       1000.0   \n",
       "47  https://www.avito.ru/moskva/predlozheniya_uslu...        750.0   \n",
       "48  https://www.avito.ru/moskva/tovary_dlya_detey_...         60.0   \n",
       "51  https://www.avito.ru/moskva/vakansii/barmen-of...       1500.0   \n",
       "52  https://www.avito.ru/moskva/bytovaya_tehnika/k...       1800.0   \n",
       "53  https://www.avito.ru/moskva/kollektsionirovani...         49.0   \n",
       "\n",
       "                       metro  dist (m)  \n",
       "0                   Солнцево     800.0  \n",
       "1                   Солнцево     800.0  \n",
       "2                   Солнцево     800.0  \n",
       "5             Кантемировская     400.0  \n",
       "7          Площадь революции     400.0  \n",
       "8                Сухаревская     200.0  \n",
       "9                Новогиреево    1100.0  \n",
       "10               Охотный ряд     200.0  \n",
       "11                   Марьино     100.0  \n",
       "14               Охотный ряд     200.0  \n",
       "16             Деловой центр     100.0  \n",
       "17               Шипиловская    1100.0  \n",
       "18               Селигерская    2100.0  \n",
       "19                   Коптево    1000.0  \n",
       "20  Бульвар Дмитрия Донского     100.0  \n",
       "21                   Беговая     400.0  \n",
       "23                  Свиблово     200.0  \n",
       "24                  Отрадное    1800.0  \n",
       "25      Нахимовский проспект    1600.0  \n",
       "27             Волоколамская     800.0  \n",
       "28               Коломенская     700.0  \n",
       "29                Павелецкая     300.0  \n",
       "30                Щелковская    2500.0  \n",
       "31             Домодедовская     800.0  \n",
       "34         Площадь революции     400.0  \n",
       "36  Бульвар адмирала Ушакова     300.0  \n",
       "41                Медведково    1200.0  \n",
       "43               Охотный ряд     200.0  \n",
       "44         Площадь революции     400.0  \n",
       "45              Пролетарская     100.0  \n",
       "47               Белорусская     300.0  \n",
       "48    Преображенская площадь     100.0  \n",
       "51               Дмитровская     500.0  \n",
       "52                      ВДНХ     500.0  \n",
       "53       Улица Дмитриевского    1400.0  "
      ]
     },
     "execution_count": 25,
     "metadata": {},
     "output_type": "execute_result"
    }
   ],
   "source": [
    "parse_page('гречка', 4)"
   ]
  },
  {
   "cell_type": "code",
   "execution_count": 26,
   "metadata": {
    "scrolled": true
   },
   "outputs": [],
   "source": [
    "# len(name), len(link), len(price), len(metro), len(dist)"
   ]
  },
  {
   "cell_type": "markdown",
   "metadata": {},
   "source": [
    "## 4. Walmart (30 баллов)"
   ]
  },
  {
   "cell_type": "markdown",
   "metadata": {},
   "source": [
    "В файле *walmart.csv* нам предоставлены исторические данные о продажах магазинов Walmart, расположенных в разных регионах.\n",
    "\n",
    "Нам доступны следующие переменные:\n",
    "\n",
    "* **Date** – дата;\n",
    "* **Store** – номер магазина;\n",
    "* **Dept** – номер отдела;\n",
    "* **Weekly_Sales** – объём продаж в данную неделю в данном отделе\n",
    "* **Type** – тип магазина;\n",
    "* **Size** – размер магазина;\n",
    "* **IsHoliday** – является ли неделя праздничной;\n",
    "* **Temperature** – средняя температура в регионе в градусах по Фаренгейту;\n",
    "* **Fuel_Price** – стоимость топлива в регионе;\n",
    "* **MarkDown1-5** – данные, связанные с рекламными уценками, которые запускает Walmart. Данные уценки доступны только после ноября 2011 года и доступны не для всех магазинов. Данные анонимизированы. Непонятно на какие именно товары производилась уценка и в каких количествах. Компании часто анонимизируют данные, когда выкладывают их в открытый доступ.\n",
    "* **CPI** – индекс потребительских цен;\n",
    "* **Unemployment** – уровень безработицы.\n",
    "\n",
    "\n",
    "Вам нужно выполнить следующие задания:\n",
    "1. Загрузить файл с данными. Отобразить первые и последние 5 наблюдений. Узнать сколько наблюдений и переменных есть в вашем наборе данных. Какой тип(формат) имеет каждая переменная? Привести переменную Date к формату даты.\n",
    "2. Разобраться с пропущенными значениями:\n",
    "    * вывести сколько пропущенных значений в процентах есть в каждой переменной;\n",
    "    * удалить переменные, которые имеют более 60% пропущенных значений.\n",
    "3. Сколько магазинов и отделов присутствует в выборке, за какой период времени у нас имеются данные? \n",
    "4. Посмотреть динамику продаж в магазинах walmart в целом. Для этого можно построить график, где по оси X будет дата, а по оси Y продажи всей сети Walmart.\n",
    "5. Найдите и нарисуйте матрицу корреляции для числовых показателей.\n",
    "6. Найдите топ-5 самых больших магазинов по суммарным продажам за все время и отобразите динамику их продаж на одном графике.\n",
    "7. Найдите топ-10 самых больших отделов по суммарным продажам за 2011 год среди магазинов с типом А и нарисуйте столбчатую диаграмму для них"
   ]
  },
  {
   "cell_type": "markdown",
   "metadata": {},
   "source": [
    "__1__"
   ]
  },
  {
   "cell_type": "code",
   "execution_count": 27,
   "metadata": {},
   "outputs": [],
   "source": [
    "file = pd.read_csv('walmart.csv')"
   ]
  },
  {
   "cell_type": "code",
   "execution_count": 28,
   "metadata": {},
   "outputs": [
    {
     "data": {
      "text/html": [
       "<div>\n",
       "<style scoped>\n",
       "    .dataframe tbody tr th:only-of-type {\n",
       "        vertical-align: middle;\n",
       "    }\n",
       "\n",
       "    .dataframe tbody tr th {\n",
       "        vertical-align: top;\n",
       "    }\n",
       "\n",
       "    .dataframe thead th {\n",
       "        text-align: right;\n",
       "    }\n",
       "</style>\n",
       "<table border=\"1\" class=\"dataframe\">\n",
       "  <thead>\n",
       "    <tr style=\"text-align: right;\">\n",
       "      <th></th>\n",
       "      <th>Store</th>\n",
       "      <th>Date</th>\n",
       "      <th>Dept</th>\n",
       "      <th>Weekly_Sales</th>\n",
       "      <th>IsHoliday</th>\n",
       "      <th>Type</th>\n",
       "      <th>Size</th>\n",
       "      <th>Temperature</th>\n",
       "      <th>Fuel_Price</th>\n",
       "      <th>MarkDown1</th>\n",
       "      <th>MarkDown2</th>\n",
       "      <th>MarkDown3</th>\n",
       "      <th>MarkDown4</th>\n",
       "      <th>MarkDown5</th>\n",
       "      <th>CPI</th>\n",
       "      <th>Unemployment</th>\n",
       "    </tr>\n",
       "  </thead>\n",
       "  <tbody>\n",
       "    <tr>\n",
       "      <td>0</td>\n",
       "      <td>1</td>\n",
       "      <td>2010-02-05</td>\n",
       "      <td>1</td>\n",
       "      <td>24924.50</td>\n",
       "      <td>False</td>\n",
       "      <td>A</td>\n",
       "      <td>151315</td>\n",
       "      <td>42.31</td>\n",
       "      <td>2.572</td>\n",
       "      <td>NaN</td>\n",
       "      <td>NaN</td>\n",
       "      <td>NaN</td>\n",
       "      <td>NaN</td>\n",
       "      <td>NaN</td>\n",
       "      <td>211.096358</td>\n",
       "      <td>8.106</td>\n",
       "    </tr>\n",
       "    <tr>\n",
       "      <td>1</td>\n",
       "      <td>1</td>\n",
       "      <td>2010-02-12</td>\n",
       "      <td>1</td>\n",
       "      <td>46039.49</td>\n",
       "      <td>True</td>\n",
       "      <td>A</td>\n",
       "      <td>151315</td>\n",
       "      <td>38.51</td>\n",
       "      <td>2.548</td>\n",
       "      <td>NaN</td>\n",
       "      <td>NaN</td>\n",
       "      <td>NaN</td>\n",
       "      <td>NaN</td>\n",
       "      <td>NaN</td>\n",
       "      <td>211.242170</td>\n",
       "      <td>8.106</td>\n",
       "    </tr>\n",
       "    <tr>\n",
       "      <td>2</td>\n",
       "      <td>1</td>\n",
       "      <td>2010-02-19</td>\n",
       "      <td>1</td>\n",
       "      <td>41595.55</td>\n",
       "      <td>False</td>\n",
       "      <td>A</td>\n",
       "      <td>151315</td>\n",
       "      <td>39.93</td>\n",
       "      <td>2.514</td>\n",
       "      <td>NaN</td>\n",
       "      <td>NaN</td>\n",
       "      <td>NaN</td>\n",
       "      <td>NaN</td>\n",
       "      <td>NaN</td>\n",
       "      <td>211.289143</td>\n",
       "      <td>8.106</td>\n",
       "    </tr>\n",
       "    <tr>\n",
       "      <td>3</td>\n",
       "      <td>1</td>\n",
       "      <td>2010-02-26</td>\n",
       "      <td>1</td>\n",
       "      <td>19403.54</td>\n",
       "      <td>False</td>\n",
       "      <td>A</td>\n",
       "      <td>151315</td>\n",
       "      <td>46.63</td>\n",
       "      <td>2.561</td>\n",
       "      <td>NaN</td>\n",
       "      <td>NaN</td>\n",
       "      <td>NaN</td>\n",
       "      <td>NaN</td>\n",
       "      <td>NaN</td>\n",
       "      <td>211.319643</td>\n",
       "      <td>8.106</td>\n",
       "    </tr>\n",
       "    <tr>\n",
       "      <td>4</td>\n",
       "      <td>1</td>\n",
       "      <td>2010-03-05</td>\n",
       "      <td>1</td>\n",
       "      <td>21827.90</td>\n",
       "      <td>False</td>\n",
       "      <td>A</td>\n",
       "      <td>151315</td>\n",
       "      <td>46.50</td>\n",
       "      <td>2.625</td>\n",
       "      <td>NaN</td>\n",
       "      <td>NaN</td>\n",
       "      <td>NaN</td>\n",
       "      <td>NaN</td>\n",
       "      <td>NaN</td>\n",
       "      <td>211.350143</td>\n",
       "      <td>8.106</td>\n",
       "    </tr>\n",
       "    <tr>\n",
       "      <td>...</td>\n",
       "      <td>...</td>\n",
       "      <td>...</td>\n",
       "      <td>...</td>\n",
       "      <td>...</td>\n",
       "      <td>...</td>\n",
       "      <td>...</td>\n",
       "      <td>...</td>\n",
       "      <td>...</td>\n",
       "      <td>...</td>\n",
       "      <td>...</td>\n",
       "      <td>...</td>\n",
       "      <td>...</td>\n",
       "      <td>...</td>\n",
       "      <td>...</td>\n",
       "      <td>...</td>\n",
       "      <td>...</td>\n",
       "    </tr>\n",
       "    <tr>\n",
       "      <td>418234</td>\n",
       "      <td>45</td>\n",
       "      <td>2012-09-21</td>\n",
       "      <td>98</td>\n",
       "      <td>467.30</td>\n",
       "      <td>False</td>\n",
       "      <td>B</td>\n",
       "      <td>118221</td>\n",
       "      <td>65.32</td>\n",
       "      <td>4.038</td>\n",
       "      <td>8452.20</td>\n",
       "      <td>92.28</td>\n",
       "      <td>63.24</td>\n",
       "      <td>2376.38</td>\n",
       "      <td>8670.40</td>\n",
       "      <td>191.856704</td>\n",
       "      <td>8.684</td>\n",
       "    </tr>\n",
       "    <tr>\n",
       "      <td>418235</td>\n",
       "      <td>45</td>\n",
       "      <td>2012-09-28</td>\n",
       "      <td>98</td>\n",
       "      <td>508.37</td>\n",
       "      <td>False</td>\n",
       "      <td>B</td>\n",
       "      <td>118221</td>\n",
       "      <td>64.88</td>\n",
       "      <td>3.997</td>\n",
       "      <td>4556.61</td>\n",
       "      <td>20.64</td>\n",
       "      <td>1.50</td>\n",
       "      <td>1601.01</td>\n",
       "      <td>3288.25</td>\n",
       "      <td>192.013558</td>\n",
       "      <td>8.684</td>\n",
       "    </tr>\n",
       "    <tr>\n",
       "      <td>418236</td>\n",
       "      <td>45</td>\n",
       "      <td>2012-10-05</td>\n",
       "      <td>98</td>\n",
       "      <td>628.10</td>\n",
       "      <td>False</td>\n",
       "      <td>B</td>\n",
       "      <td>118221</td>\n",
       "      <td>64.89</td>\n",
       "      <td>3.985</td>\n",
       "      <td>5046.74</td>\n",
       "      <td>NaN</td>\n",
       "      <td>18.82</td>\n",
       "      <td>2253.43</td>\n",
       "      <td>2340.01</td>\n",
       "      <td>192.170412</td>\n",
       "      <td>8.667</td>\n",
       "    </tr>\n",
       "    <tr>\n",
       "      <td>418237</td>\n",
       "      <td>45</td>\n",
       "      <td>2012-10-12</td>\n",
       "      <td>98</td>\n",
       "      <td>1061.02</td>\n",
       "      <td>False</td>\n",
       "      <td>B</td>\n",
       "      <td>118221</td>\n",
       "      <td>54.47</td>\n",
       "      <td>4.000</td>\n",
       "      <td>1956.28</td>\n",
       "      <td>NaN</td>\n",
       "      <td>7.89</td>\n",
       "      <td>599.32</td>\n",
       "      <td>3990.54</td>\n",
       "      <td>192.327265</td>\n",
       "      <td>8.667</td>\n",
       "    </tr>\n",
       "    <tr>\n",
       "      <td>418238</td>\n",
       "      <td>45</td>\n",
       "      <td>2012-10-19</td>\n",
       "      <td>98</td>\n",
       "      <td>760.01</td>\n",
       "      <td>False</td>\n",
       "      <td>B</td>\n",
       "      <td>118221</td>\n",
       "      <td>56.47</td>\n",
       "      <td>3.969</td>\n",
       "      <td>2004.02</td>\n",
       "      <td>NaN</td>\n",
       "      <td>3.18</td>\n",
       "      <td>437.73</td>\n",
       "      <td>1537.49</td>\n",
       "      <td>192.330854</td>\n",
       "      <td>8.667</td>\n",
       "    </tr>\n",
       "  </tbody>\n",
       "</table>\n",
       "<p>418239 rows × 16 columns</p>\n",
       "</div>"
      ],
      "text/plain": [
       "        Store        Date  Dept  Weekly_Sales  IsHoliday Type    Size  \\\n",
       "0           1  2010-02-05     1      24924.50      False    A  151315   \n",
       "1           1  2010-02-12     1      46039.49       True    A  151315   \n",
       "2           1  2010-02-19     1      41595.55      False    A  151315   \n",
       "3           1  2010-02-26     1      19403.54      False    A  151315   \n",
       "4           1  2010-03-05     1      21827.90      False    A  151315   \n",
       "...       ...         ...   ...           ...        ...  ...     ...   \n",
       "418234     45  2012-09-21    98        467.30      False    B  118221   \n",
       "418235     45  2012-09-28    98        508.37      False    B  118221   \n",
       "418236     45  2012-10-05    98        628.10      False    B  118221   \n",
       "418237     45  2012-10-12    98       1061.02      False    B  118221   \n",
       "418238     45  2012-10-19    98        760.01      False    B  118221   \n",
       "\n",
       "        Temperature  Fuel_Price  MarkDown1  MarkDown2  MarkDown3  MarkDown4  \\\n",
       "0             42.31       2.572        NaN        NaN        NaN        NaN   \n",
       "1             38.51       2.548        NaN        NaN        NaN        NaN   \n",
       "2             39.93       2.514        NaN        NaN        NaN        NaN   \n",
       "3             46.63       2.561        NaN        NaN        NaN        NaN   \n",
       "4             46.50       2.625        NaN        NaN        NaN        NaN   \n",
       "...             ...         ...        ...        ...        ...        ...   \n",
       "418234        65.32       4.038    8452.20      92.28      63.24    2376.38   \n",
       "418235        64.88       3.997    4556.61      20.64       1.50    1601.01   \n",
       "418236        64.89       3.985    5046.74        NaN      18.82    2253.43   \n",
       "418237        54.47       4.000    1956.28        NaN       7.89     599.32   \n",
       "418238        56.47       3.969    2004.02        NaN       3.18     437.73   \n",
       "\n",
       "        MarkDown5         CPI  Unemployment  \n",
       "0             NaN  211.096358         8.106  \n",
       "1             NaN  211.242170         8.106  \n",
       "2             NaN  211.289143         8.106  \n",
       "3             NaN  211.319643         8.106  \n",
       "4             NaN  211.350143         8.106  \n",
       "...           ...         ...           ...  \n",
       "418234    8670.40  191.856704         8.684  \n",
       "418235    3288.25  192.013558         8.684  \n",
       "418236    2340.01  192.170412         8.667  \n",
       "418237    3990.54  192.327265         8.667  \n",
       "418238    1537.49  192.330854         8.667  \n",
       "\n",
       "[418239 rows x 16 columns]"
      ]
     },
     "execution_count": 28,
     "metadata": {},
     "output_type": "execute_result"
    }
   ],
   "source": [
    "file"
   ]
  },
  {
   "cell_type": "code",
   "execution_count": 29,
   "metadata": {},
   "outputs": [
    {
     "name": "stdout",
     "output_type": "stream",
     "text": [
      "Наблюдений: 418239. Переменных: 16\n"
     ]
    }
   ],
   "source": [
    "print('Наблюдений: ' + str(len(file)) + '. Переменных: ' + str(len(file.columns)))"
   ]
  },
  {
   "cell_type": "code",
   "execution_count": 30,
   "metadata": {},
   "outputs": [
    {
     "name": "stdout",
     "output_type": "stream",
     "text": [
      "Формат данных по столбцам: \n",
      "Store             int64\n",
      "Date             object\n",
      "Dept              int64\n",
      "Weekly_Sales    float64\n",
      "IsHoliday          bool\n",
      "Type             object\n",
      "Size              int64\n",
      "Temperature     float64\n",
      "Fuel_Price      float64\n",
      "MarkDown1       float64\n",
      "MarkDown2       float64\n",
      "MarkDown3       float64\n",
      "MarkDown4       float64\n",
      "MarkDown5       float64\n",
      "CPI             float64\n",
      "Unemployment    float64\n",
      "dtype: object\n"
     ]
    }
   ],
   "source": [
    "print('Формат данных по столбцам: ' + '\\n' + str(file.dtypes))"
   ]
  },
  {
   "cell_type": "code",
   "execution_count": 31,
   "metadata": {},
   "outputs": [],
   "source": [
    "a = datetime.date(2010, 10, 1)"
   ]
  },
  {
   "cell_type": "code",
   "execution_count": 32,
   "metadata": {},
   "outputs": [
    {
     "data": {
      "text/plain": [
       "0         2010-02-05\n",
       "1         2010-02-12\n",
       "2         2010-02-19\n",
       "3         2010-02-26\n",
       "4         2010-03-05\n",
       "             ...    \n",
       "418234    2012-09-21\n",
       "418235    2012-09-28\n",
       "418236    2012-10-05\n",
       "418237    2012-10-12\n",
       "418238    2012-10-19\n",
       "Name: Date, Length: 418239, dtype: object"
      ]
     },
     "execution_count": 32,
     "metadata": {},
     "output_type": "execute_result"
    }
   ],
   "source": [
    "file.iloc()[:, 1]"
   ]
  },
  {
   "cell_type": "code",
   "execution_count": 33,
   "metadata": {},
   "outputs": [],
   "source": [
    "# object -> datetime64\n",
    "file.iloc()[:, 1] = pd.to_datetime(file.iloc()[:, 1])"
   ]
  },
  {
   "cell_type": "markdown",
   "metadata": {},
   "source": [
    "__2__"
   ]
  },
  {
   "cell_type": "code",
   "execution_count": 34,
   "metadata": {},
   "outputs": [],
   "source": [
    "def isNaN(num):\n",
    "    return num != num"
   ]
  },
  {
   "cell_type": "code",
   "execution_count": 35,
   "metadata": {
    "scrolled": true
   },
   "outputs": [
    {
     "data": {
      "text/plain": [
       "[('Store', 0.0),\n",
       " ('Date', 0.0),\n",
       " ('Dept', 0.0),\n",
       " ('Weekly_Sales', 0.0),\n",
       " ('IsHoliday', 0.0),\n",
       " ('Type', 0.0),\n",
       " ('Size', 0.0),\n",
       " ('Temperature', 0.0),\n",
       " ('Fuel_Price', 0.0),\n",
       " ('MarkDown1', 0.6473690880094874),\n",
       " ('MarkDown2', 0.7414301392266145),\n",
       " ('MarkDown3', 0.6782509522067526),\n",
       " ('MarkDown4', 0.6836378243061981),\n",
       " ('MarkDown5', 0.6457001857789446),\n",
       " ('CPI', 0.0),\n",
       " ('Unemployment', 0.0)]"
      ]
     },
     "execution_count": 35,
     "metadata": {},
     "output_type": "execute_result"
    }
   ],
   "source": [
    "# доля null значений в переменной\n",
    "[(file.columns[x], isNaN(file.iloc()[:, x]).sum() / len(file)) for x in range(len(file.columns))]"
   ]
  },
  {
   "cell_type": "code",
   "execution_count": 36,
   "metadata": {},
   "outputs": [],
   "source": [
    "df = file.drop(['MarkDown1', 'MarkDown2', 'MarkDown3', 'MarkDown4', 'MarkDown5'], axis=1)"
   ]
  },
  {
   "cell_type": "markdown",
   "metadata": {},
   "source": [
    "__3__"
   ]
  },
  {
   "cell_type": "code",
   "execution_count": 37,
   "metadata": {},
   "outputs": [
    {
     "name": "stdout",
     "output_type": "stream",
     "text": [
      "Магазинов: 45. Отделов: 81. Период: 2010-02-05 00:00:00 - 2012-10-19 00:00:00\n"
     ]
    }
   ],
   "source": [
    "print('Магазинов: ' + str(len(set(df['Store']))) + '. Отделов: ' + str(len(set(df['Dept']))) + '. Период: ' + str(min(df['Date'])) + ' - ' + str(max(df['Date'])))"
   ]
  },
  {
   "cell_type": "markdown",
   "metadata": {},
   "source": [
    "__4__"
   ]
  },
  {
   "cell_type": "code",
   "execution_count": 38,
   "metadata": {},
   "outputs": [],
   "source": [
    "date_sale = df.take([1, 3], axis=1)\n",
    "date_sale_groupped = date_sale.groupby(['Date']).sum()"
   ]
  },
  {
   "cell_type": "code",
   "execution_count": 39,
   "metadata": {},
   "outputs": [
    {
     "name": "stderr",
     "output_type": "stream",
     "text": [
      "/opt/anaconda3/lib/python3.7/site-packages/pandas/plotting/_matplotlib/converter.py:103: FutureWarning: Using an implicitly registered datetime converter for a matplotlib plotting method. The converter was registered by pandas on import. Future versions of pandas will require you to explicitly register matplotlib converters.\n",
      "\n",
      "To register the converters:\n",
      "\t>>> from pandas.plotting import register_matplotlib_converters\n",
      "\t>>> register_matplotlib_converters()\n",
      "  warnings.warn(msg, FutureWarning)\n"
     ]
    },
    {
     "data": {
      "text/plain": [
       "([<matplotlib.axis.XTick at 0x1a190a7490>,\n",
       "  <matplotlib.axis.XTick at 0x1a1ecd2e10>,\n",
       "  <matplotlib.axis.XTick at 0x1a1944d050>,\n",
       "  <matplotlib.axis.XTick at 0x1a184f6b90>,\n",
       "  <matplotlib.axis.XTick at 0x1a18505250>],\n",
       " <a list of 5 Text xticklabel objects>)"
      ]
     },
     "execution_count": 39,
     "metadata": {},
     "output_type": "execute_result"
    },
    {
     "data": {
      "image/png": "[encoded data removed]",
      "text/plain": [
       "<Figure size 432x288 with 1 Axes>"
      ]
     },
     "metadata": {
      "needs_background": "light"
     },
     "output_type": "display_data"
    }
   ],
   "source": [
    "fig = plt.plot(date_sale_groupped)\n",
    "plt.title('Динамика продаж в Walmart')\n",
    "plt.xlabel('Дата')\n",
    "plt.ylabel('Неедельные продажи (в десятках млн. $)')\n",
    "\n",
    "locs, labels = plt.xticks()  # Get the current locations and labels.\n",
    "plt.xticks(pd.date_range(min(date_sale['Date']), max(date_sale['Date']), periods=5))  # Set text labels and properties."
   ]
  },
  {
   "cell_type": "markdown",
   "metadata": {},
   "source": [
    "Скачки, вероятно, связаны с Рождеством(меньшая вершина) и Новым Годом(большая вершина)."
   ]
  },
  {
   "cell_type": "markdown",
   "metadata": {},
   "source": [
    "__5__"
   ]
  },
  {
   "cell_type": "code",
   "execution_count": 40,
   "metadata": {},
   "outputs": [],
   "source": [
    "numerical = df.drop(['Date', 'Type', 'IsHoliday'], axis=1)"
   ]
  },
  {
   "cell_type": "code",
   "execution_count": 41,
   "metadata": {},
   "outputs": [
    {
     "data": {
      "text/html": [
       "<div>\n",
       "<style scoped>\n",
       "    .dataframe tbody tr th:only-of-type {\n",
       "        vertical-align: middle;\n",
       "    }\n",
       "\n",
       "    .dataframe tbody tr th {\n",
       "        vertical-align: top;\n",
       "    }\n",
       "\n",
       "    .dataframe thead th {\n",
       "        text-align: right;\n",
       "    }\n",
       "</style>\n",
       "<table border=\"1\" class=\"dataframe\">\n",
       "  <thead>\n",
       "    <tr style=\"text-align: right;\">\n",
       "      <th></th>\n",
       "      <th>Store</th>\n",
       "      <th>Dept</th>\n",
       "      <th>Weekly_Sales</th>\n",
       "      <th>Size</th>\n",
       "      <th>Temperature</th>\n",
       "      <th>Fuel_Price</th>\n",
       "      <th>CPI</th>\n",
       "      <th>Unemployment</th>\n",
       "    </tr>\n",
       "  </thead>\n",
       "  <tbody>\n",
       "    <tr>\n",
       "      <td>Store</td>\n",
       "      <td>1.000000</td>\n",
       "      <td>0.024170</td>\n",
       "      <td>-0.085175</td>\n",
       "      <td>-0.182654</td>\n",
       "      <td>-0.049933</td>\n",
       "      <td>0.064666</td>\n",
       "      <td>-0.211129</td>\n",
       "      <td>0.208524</td>\n",
       "    </tr>\n",
       "    <tr>\n",
       "      <td>Dept</td>\n",
       "      <td>0.024170</td>\n",
       "      <td>1.000000</td>\n",
       "      <td>0.148345</td>\n",
       "      <td>-0.003026</td>\n",
       "      <td>0.004509</td>\n",
       "      <td>0.003417</td>\n",
       "      <td>-0.007544</td>\n",
       "      <td>0.007992</td>\n",
       "    </tr>\n",
       "    <tr>\n",
       "      <td>Weekly_Sales</td>\n",
       "      <td>-0.085175</td>\n",
       "      <td>0.148345</td>\n",
       "      <td>1.000000</td>\n",
       "      <td>0.243733</td>\n",
       "      <td>-0.002197</td>\n",
       "      <td>0.000385</td>\n",
       "      <td>-0.020791</td>\n",
       "      <td>-0.026114</td>\n",
       "    </tr>\n",
       "    <tr>\n",
       "      <td>Size</td>\n",
       "      <td>-0.182654</td>\n",
       "      <td>-0.003026</td>\n",
       "      <td>0.243733</td>\n",
       "      <td>1.000000</td>\n",
       "      <td>-0.057979</td>\n",
       "      <td>0.003803</td>\n",
       "      <td>-0.003249</td>\n",
       "      <td>-0.068803</td>\n",
       "    </tr>\n",
       "    <tr>\n",
       "      <td>Temperature</td>\n",
       "      <td>-0.049933</td>\n",
       "      <td>0.004509</td>\n",
       "      <td>-0.002197</td>\n",
       "      <td>-0.057979</td>\n",
       "      <td>1.000000</td>\n",
       "      <td>0.144837</td>\n",
       "      <td>0.181292</td>\n",
       "      <td>0.097301</td>\n",
       "    </tr>\n",
       "    <tr>\n",
       "      <td>Fuel_Price</td>\n",
       "      <td>0.064666</td>\n",
       "      <td>0.003417</td>\n",
       "      <td>0.000385</td>\n",
       "      <td>0.003803</td>\n",
       "      <td>0.144837</td>\n",
       "      <td>1.000000</td>\n",
       "      <td>-0.163226</td>\n",
       "      <td>-0.032461</td>\n",
       "    </tr>\n",
       "    <tr>\n",
       "      <td>CPI</td>\n",
       "      <td>-0.211129</td>\n",
       "      <td>-0.007544</td>\n",
       "      <td>-0.020791</td>\n",
       "      <td>-0.003249</td>\n",
       "      <td>0.181292</td>\n",
       "      <td>-0.163226</td>\n",
       "      <td>1.000000</td>\n",
       "      <td>-0.299723</td>\n",
       "    </tr>\n",
       "    <tr>\n",
       "      <td>Unemployment</td>\n",
       "      <td>0.208524</td>\n",
       "      <td>0.007992</td>\n",
       "      <td>-0.026114</td>\n",
       "      <td>-0.068803</td>\n",
       "      <td>0.097301</td>\n",
       "      <td>-0.032461</td>\n",
       "      <td>-0.299723</td>\n",
       "      <td>1.000000</td>\n",
       "    </tr>\n",
       "  </tbody>\n",
       "</table>\n",
       "</div>"
      ],
      "text/plain": [
       "                 Store      Dept  Weekly_Sales      Size  Temperature  \\\n",
       "Store         1.000000  0.024170     -0.085175 -0.182654    -0.049933   \n",
       "Dept          0.024170  1.000000      0.148345 -0.003026     0.004509   \n",
       "Weekly_Sales -0.085175  0.148345      1.000000  0.243733    -0.002197   \n",
       "Size         -0.182654 -0.003026      0.243733  1.000000    -0.057979   \n",
       "Temperature  -0.049933  0.004509     -0.002197 -0.057979     1.000000   \n",
       "Fuel_Price    0.064666  0.003417      0.000385  0.003803     0.144837   \n",
       "CPI          -0.211129 -0.007544     -0.020791 -0.003249     0.181292   \n",
       "Unemployment  0.208524  0.007992     -0.026114 -0.068803     0.097301   \n",
       "\n",
       "              Fuel_Price       CPI  Unemployment  \n",
       "Store           0.064666 -0.211129      0.208524  \n",
       "Dept            0.003417 -0.007544      0.007992  \n",
       "Weekly_Sales    0.000385 -0.020791     -0.026114  \n",
       "Size            0.003803 -0.003249     -0.068803  \n",
       "Temperature     0.144837  0.181292      0.097301  \n",
       "Fuel_Price      1.000000 -0.163226     -0.032461  \n",
       "CPI            -0.163226  1.000000     -0.299723  \n",
       "Unemployment   -0.032461 -0.299723      1.000000  "
      ]
     },
     "execution_count": 41,
     "metadata": {},
     "output_type": "execute_result"
    }
   ],
   "source": [
    "corr = numerical.corr()\n",
    "corr"
   ]
  },
  {
   "cell_type": "code",
   "execution_count": 50,
   "metadata": {},
   "outputs": [
    {
     "data": {
      "text/plain": [
       "(8.5, -0.5)"
      ]
     },
     "execution_count": 50,
     "metadata": {},
     "output_type": "execute_result"
    },
    {
     "data": {
      "image/png": "[encoded data removed]",
      "text/plain": [
       "<Figure size 432x288 with 2 Axes>"
      ]
     },
     "metadata": {
      "needs_background": "light"
     },
     "output_type": "display_data"
    }
   ],
   "source": [
    "ax = sns.heatmap(corr, annot=True)\n",
    "bottom, top = ax.get_ylim()\n",
    "ax.set_ylim(bottom+1, top-1)"
   ]
  },
  {
   "cell_type": "code",
   "execution_count": 65,
   "metadata": {},
   "outputs": [
    {
     "data": {
      "text/plain": [
       "(8.5, -0.5)"
      ]
     },
     "execution_count": 65,
     "metadata": {},
     "output_type": "execute_result"
    },
    {
     "data": {
      "image/png": "[encoded data removed]",
      "text/plain": [
       "<Figure size 432x288 with 2 Axes>"
      ]
     },
     "metadata": {
      "needs_background": "light"
     },
     "output_type": "display_data"
    }
   ],
   "source": [
    "# Визуализирую матрицу корреляции\n",
    "fig = sns.heatmap(corr)\n",
    "fig.set_ylim(fig.get_ylim()[0]+1, fig.get_ylim()[1]-1)"
   ]
  },
  {
   "cell_type": "markdown",
   "metadata": {},
   "source": [
    "__6__"
   ]
  },
  {
   "cell_type": "code",
   "execution_count": 42,
   "metadata": {},
   "outputs": [
    {
     "data": {
      "text/html": [
       "<div>\n",
       "<style scoped>\n",
       "    .dataframe tbody tr th:only-of-type {\n",
       "        vertical-align: middle;\n",
       "    }\n",
       "\n",
       "    .dataframe tbody tr th {\n",
       "        vertical-align: top;\n",
       "    }\n",
       "\n",
       "    .dataframe thead th {\n",
       "        text-align: right;\n",
       "    }\n",
       "</style>\n",
       "<table border=\"1\" class=\"dataframe\">\n",
       "  <thead>\n",
       "    <tr style=\"text-align: right;\">\n",
       "      <th></th>\n",
       "      <th>Store</th>\n",
       "      <th>Date</th>\n",
       "      <th>Weekly_Sales</th>\n",
       "    </tr>\n",
       "  </thead>\n",
       "  <tbody>\n",
       "    <tr>\n",
       "      <td>0</td>\n",
       "      <td>1</td>\n",
       "      <td>2010-02-05</td>\n",
       "      <td>24924.50</td>\n",
       "    </tr>\n",
       "    <tr>\n",
       "      <td>1</td>\n",
       "      <td>1</td>\n",
       "      <td>2010-02-12</td>\n",
       "      <td>46039.49</td>\n",
       "    </tr>\n",
       "    <tr>\n",
       "      <td>2</td>\n",
       "      <td>1</td>\n",
       "      <td>2010-02-19</td>\n",
       "      <td>41595.55</td>\n",
       "    </tr>\n",
       "    <tr>\n",
       "      <td>3</td>\n",
       "      <td>1</td>\n",
       "      <td>2010-02-26</td>\n",
       "      <td>19403.54</td>\n",
       "    </tr>\n",
       "    <tr>\n",
       "      <td>4</td>\n",
       "      <td>1</td>\n",
       "      <td>2010-03-05</td>\n",
       "      <td>21827.90</td>\n",
       "    </tr>\n",
       "    <tr>\n",
       "      <td>...</td>\n",
       "      <td>...</td>\n",
       "      <td>...</td>\n",
       "      <td>...</td>\n",
       "    </tr>\n",
       "    <tr>\n",
       "      <td>418234</td>\n",
       "      <td>45</td>\n",
       "      <td>2012-09-21</td>\n",
       "      <td>467.30</td>\n",
       "    </tr>\n",
       "    <tr>\n",
       "      <td>418235</td>\n",
       "      <td>45</td>\n",
       "      <td>2012-09-28</td>\n",
       "      <td>508.37</td>\n",
       "    </tr>\n",
       "    <tr>\n",
       "      <td>418236</td>\n",
       "      <td>45</td>\n",
       "      <td>2012-10-05</td>\n",
       "      <td>628.10</td>\n",
       "    </tr>\n",
       "    <tr>\n",
       "      <td>418237</td>\n",
       "      <td>45</td>\n",
       "      <td>2012-10-12</td>\n",
       "      <td>1061.02</td>\n",
       "    </tr>\n",
       "    <tr>\n",
       "      <td>418238</td>\n",
       "      <td>45</td>\n",
       "      <td>2012-10-19</td>\n",
       "      <td>760.01</td>\n",
       "    </tr>\n",
       "  </tbody>\n",
       "</table>\n",
       "<p>418239 rows × 3 columns</p>\n",
       "</div>"
      ],
      "text/plain": [
       "        Store       Date  Weekly_Sales\n",
       "0           1 2010-02-05      24924.50\n",
       "1           1 2010-02-12      46039.49\n",
       "2           1 2010-02-19      41595.55\n",
       "3           1 2010-02-26      19403.54\n",
       "4           1 2010-03-05      21827.90\n",
       "...       ...        ...           ...\n",
       "418234     45 2012-09-21        467.30\n",
       "418235     45 2012-09-28        508.37\n",
       "418236     45 2012-10-05        628.10\n",
       "418237     45 2012-10-12       1061.02\n",
       "418238     45 2012-10-19        760.01\n",
       "\n",
       "[418239 rows x 3 columns]"
      ]
     },
     "execution_count": 42,
     "metadata": {},
     "output_type": "execute_result"
    }
   ],
   "source": [
    "stores = df['Store'] + df['Weekly_Sales']\n",
    "stores\n",
    "df.take([0, 1, 3], axis=1)"
   ]
  },
  {
   "cell_type": "code",
   "execution_count": 43,
   "metadata": {},
   "outputs": [],
   "source": [
    "s = dict()\n",
    "for x in range(len(df['Store'])):\n",
    "    if df['Store'][x] in s:\n",
    "        s[df['Store'][x]] += df['Weekly_Sales'][x]\n",
    "    else:\n",
    "        s[df['Store'][x]] = df['Weekly_Sales'][x]"
   ]
  },
  {
   "cell_type": "code",
   "execution_count": 44,
   "metadata": {},
   "outputs": [
    {
     "name": "stdout",
     "output_type": "stream",
     "text": [
      "топ-5 самых больших магазинов по суммарным продажам за все время (и их продажи) {20: 299366021.99999964, 4: 297394029.39999986, 14: 287295221.749999, 13: 284481088.03999877, 2: 273547552.6200003}\n"
     ]
    }
   ],
   "source": [
    "s_sorted = {k: v for k, v in sorted(s.items(), key=lambda item: item[1], reverse=True)[:5]}\n",
    "print('топ-5 самых больших магазинов по суммарным продажам за все время (и их продажи) ' + str(s_sorted))"
   ]
  },
  {
   "cell_type": "code",
   "execution_count": 45,
   "metadata": {},
   "outputs": [],
   "source": [
    "top_sales = df.take([0, 1, 3], axis=1)\n",
    "top_sales_groupped = sorted(top_sales.groupby(['Store']).sum().items())"
   ]
  },
  {
   "cell_type": "code",
   "execution_count": 46,
   "metadata": {},
   "outputs": [],
   "source": [
    "sss = df.take([0, 1, 3], axis=1)\n",
    "test = sss.loc[sss['Store'] == 20]\n",
    "test1 = sss.loc[sss['Store'] == 4]\n",
    "test2 = sss.loc[sss['Store'] == 14]\n",
    "test3 = sss.loc[sss['Store'] == 13]\n",
    "test4 = sss.loc[sss['Store'] == 2]"
   ]
  },
  {
   "cell_type": "code",
   "execution_count": 47,
   "metadata": {},
   "outputs": [],
   "source": [
    "# start = pd.Timestamp(min(test['Date']))\n",
    "# end = pd.Timestamp(max(test['Date']))\n",
    "# t = np.linspace(start.value, end.value, 10167)"
   ]
  },
  {
   "cell_type": "code",
   "execution_count": 48,
   "metadata": {},
   "outputs": [],
   "source": [
    "# отсортируем данные по дате\n",
    "test_sorted = test.sort_values(by=['Date'])\n",
    "test1_sorted = test1.sort_values(by=['Date'])\n",
    "test2_sorted = test2.sort_values(by=['Date'])\n",
    "test3_sorted = test3.sort_values(by=['Date'])\n",
    "test4_sorted = test4.sort_values(by=['Date'])"
   ]
  },
  {
   "cell_type": "code",
   "execution_count": 49,
   "metadata": {},
   "outputs": [],
   "source": [
    "# просуммируем данные внутри каждого дня, чтобы избежать вертикальных прямых из-за нескольких точек в один день\n",
    "test_sorted = test_sorted.groupby(by=test_sorted['Date']).sum().reset_index()\n",
    "test1_sorted = test1_sorted.groupby(by=test1_sorted['Date']).sum().reset_index()\n",
    "test2_sorted = test2_sorted.groupby(by=test2_sorted['Date']).sum().reset_index()\n",
    "test3_sorted = test3_sorted.groupby(by=test3_sorted['Date']).sum().reset_index()\n",
    "test4_sorted = test4_sorted.groupby(by=test4_sorted['Date']).sum().reset_index()"
   ]
  },
  {
   "cell_type": "code",
   "execution_count": 50,
   "metadata": {},
   "outputs": [
    {
     "data": {
      "text/plain": [
       "<matplotlib.legend.Legend at 0x1a1a11e510>"
      ]
     },
     "execution_count": 50,
     "metadata": {},
     "output_type": "execute_result"
    },
    {
     "data": {
      "image/png": "[encoded data removed]",
      "text/plain": [
       "<Figure size 1440x1080 with 1 Axes>"
      ]
     },
     "metadata": {
      "needs_background": "light"
     },
     "output_type": "display_data"
    }
   ],
   "source": [
    "fig, ax = plt.subplots()\n",
    "fig.set_figheight(15)\n",
    "fig.set_figwidth(20)\n",
    "ax.plot_date(test_sorted['Date'], test_sorted['Weekly_Sales'], '-', lw=1)\n",
    "ax.plot_date(test1_sorted['Date'], test1_sorted['Weekly_Sales'], '-')\n",
    "ax.plot_date(test2_sorted['Date'], test2_sorted['Weekly_Sales'], '-')\n",
    "ax.plot_date(test3_sorted['Date'], test3_sorted['Weekly_Sales'], '-')\n",
    "ax.plot_date(test4_sorted['Date'], test4_sorted['Weekly_Sales'], '-')\n",
    "ax.set(title='Динамика продаж ТОП-5 магазинов', xlabel='Дата', ylabel='Продажи')\n",
    "fig.autofmt_xdate()\n",
    "plt.legend(['store 20', 'store 4', 'store 14', 'store 13', 'store 2'])\n",
    "#ax.set_xlim([datetime.date('2010-02-05'), datetime.date('2012-10-19')])"
   ]
  },
  {
   "cell_type": "markdown",
   "metadata": {},
   "source": [
    "__7__"
   ]
  },
  {
   "cell_type": "code",
   "execution_count": 51,
   "metadata": {},
   "outputs": [],
   "source": [
    "top_dept = df.take([0, 1, 2, 3, 5], axis=1)"
   ]
  },
  {
   "cell_type": "code",
   "execution_count": 52,
   "metadata": {},
   "outputs": [],
   "source": [
    "# выберем департаменты типа А в 2011\n",
    "top_dept = top_dept.loc[top_dept['Type']=='A'] \n",
    "top_dept = top_dept.loc[(top_dept['Date']<=pd.to_datetime('2011-12-31')) & (top_dept['Date']>=pd.to_datetime('2011-01-01'))]"
   ]
  },
  {
   "cell_type": "code",
   "execution_count": 53,
   "metadata": {},
   "outputs": [],
   "source": [
    "top_dept_sum = top_dept.groupby(['Store', 'Dept']).sum().reset_index()"
   ]
  },
  {
   "cell_type": "code",
   "execution_count": 54,
   "metadata": {},
   "outputs": [
    {
     "data": {
      "text/html": [
       "<div>\n",
       "<style scoped>\n",
       "    .dataframe tbody tr th:only-of-type {\n",
       "        vertical-align: middle;\n",
       "    }\n",
       "\n",
       "    .dataframe tbody tr th {\n",
       "        vertical-align: top;\n",
       "    }\n",
       "\n",
       "    .dataframe thead th {\n",
       "        text-align: right;\n",
       "    }\n",
       "</style>\n",
       "<table border=\"1\" class=\"dataframe\">\n",
       "  <thead>\n",
       "    <tr style=\"text-align: right;\">\n",
       "      <th></th>\n",
       "      <th>Store</th>\n",
       "      <th>Dept</th>\n",
       "      <th>Weekly_Sales</th>\n",
       "    </tr>\n",
       "  </thead>\n",
       "  <tbody>\n",
       "    <tr>\n",
       "      <td>0</td>\n",
       "      <td>1</td>\n",
       "      <td>1</td>\n",
       "      <td>1171550.80</td>\n",
       "    </tr>\n",
       "    <tr>\n",
       "      <td>1</td>\n",
       "      <td>1</td>\n",
       "      <td>2</td>\n",
       "      <td>2389421.29</td>\n",
       "    </tr>\n",
       "    <tr>\n",
       "      <td>2</td>\n",
       "      <td>1</td>\n",
       "      <td>3</td>\n",
       "      <td>666007.83</td>\n",
       "    </tr>\n",
       "    <tr>\n",
       "      <td>3</td>\n",
       "      <td>1</td>\n",
       "      <td>4</td>\n",
       "      <td>1896108.60</td>\n",
       "    </tr>\n",
       "    <tr>\n",
       "      <td>4</td>\n",
       "      <td>1</td>\n",
       "      <td>5</td>\n",
       "      <td>1305833.52</td>\n",
       "    </tr>\n",
       "    <tr>\n",
       "      <td>...</td>\n",
       "      <td>...</td>\n",
       "      <td>...</td>\n",
       "      <td>...</td>\n",
       "    </tr>\n",
       "    <tr>\n",
       "      <td>1622</td>\n",
       "      <td>41</td>\n",
       "      <td>95</td>\n",
       "      <td>4608257.24</td>\n",
       "    </tr>\n",
       "    <tr>\n",
       "      <td>1623</td>\n",
       "      <td>41</td>\n",
       "      <td>96</td>\n",
       "      <td>141946.25</td>\n",
       "    </tr>\n",
       "    <tr>\n",
       "      <td>1624</td>\n",
       "      <td>41</td>\n",
       "      <td>97</td>\n",
       "      <td>1048014.90</td>\n",
       "    </tr>\n",
       "    <tr>\n",
       "      <td>1625</td>\n",
       "      <td>41</td>\n",
       "      <td>98</td>\n",
       "      <td>495454.69</td>\n",
       "    </tr>\n",
       "    <tr>\n",
       "      <td>1626</td>\n",
       "      <td>41</td>\n",
       "      <td>99</td>\n",
       "      <td>12223.01</td>\n",
       "    </tr>\n",
       "  </tbody>\n",
       "</table>\n",
       "<p>1627 rows × 3 columns</p>\n",
       "</div>"
      ],
      "text/plain": [
       "      Store  Dept  Weekly_Sales\n",
       "0         1     1    1171550.80\n",
       "1         1     2    2389421.29\n",
       "2         1     3     666007.83\n",
       "3         1     4    1896108.60\n",
       "4         1     5    1305833.52\n",
       "...     ...   ...           ...\n",
       "1622     41    95    4608257.24\n",
       "1623     41    96     141946.25\n",
       "1624     41    97    1048014.90\n",
       "1625     41    98     495454.69\n",
       "1626     41    99      12223.01\n",
       "\n",
       "[1627 rows x 3 columns]"
      ]
     },
     "execution_count": 54,
     "metadata": {},
     "output_type": "execute_result"
    }
   ],
   "source": [
    "top_dept_sum"
   ]
  },
  {
   "cell_type": "code",
   "execution_count": 55,
   "metadata": {},
   "outputs": [],
   "source": [
    "top_ten_dept = top_dept_sum.sort_values(by=['Weekly_Sales'])[len(top_dept_sum)-10:len(top_dept_sum)]"
   ]
  },
  {
   "cell_type": "code",
   "execution_count": 56,
   "metadata": {},
   "outputs": [
    {
     "data": {
      "text/html": [
       "<div>\n",
       "<style scoped>\n",
       "    .dataframe tbody tr th:only-of-type {\n",
       "        vertical-align: middle;\n",
       "    }\n",
       "\n",
       "    .dataframe tbody tr th {\n",
       "        vertical-align: top;\n",
       "    }\n",
       "\n",
       "    .dataframe thead th {\n",
       "        text-align: right;\n",
       "    }\n",
       "</style>\n",
       "<table border=\"1\" class=\"dataframe\">\n",
       "  <thead>\n",
       "    <tr style=\"text-align: right;\">\n",
       "      <th></th>\n",
       "      <th>Store</th>\n",
       "      <th>Dept</th>\n",
       "      <th>Weekly_Sales</th>\n",
       "    </tr>\n",
       "  </thead>\n",
       "  <tbody>\n",
       "    <tr>\n",
       "      <td>146</td>\n",
       "      <td>2</td>\n",
       "      <td>95</td>\n",
       "      <td>7252149.29</td>\n",
       "    </tr>\n",
       "    <tr>\n",
       "      <td>598</td>\n",
       "      <td>14</td>\n",
       "      <td>95</td>\n",
       "      <td>7564999.25</td>\n",
       "    </tr>\n",
       "    <tr>\n",
       "      <td>977</td>\n",
       "      <td>27</td>\n",
       "      <td>92</td>\n",
       "      <td>7619980.54</td>\n",
       "    </tr>\n",
       "    <tr>\n",
       "      <td>753</td>\n",
       "      <td>20</td>\n",
       "      <td>95</td>\n",
       "      <td>7629207.10</td>\n",
       "    </tr>\n",
       "    <tr>\n",
       "      <td>221</td>\n",
       "      <td>4</td>\n",
       "      <td>95</td>\n",
       "      <td>7721576.51</td>\n",
       "    </tr>\n",
       "    <tr>\n",
       "      <td>218</td>\n",
       "      <td>4</td>\n",
       "      <td>92</td>\n",
       "      <td>8405121.25</td>\n",
       "    </tr>\n",
       "    <tr>\n",
       "      <td>520</td>\n",
       "      <td>13</td>\n",
       "      <td>92</td>\n",
       "      <td>8487028.35</td>\n",
       "    </tr>\n",
       "    <tr>\n",
       "      <td>143</td>\n",
       "      <td>2</td>\n",
       "      <td>92</td>\n",
       "      <td>8527670.75</td>\n",
       "    </tr>\n",
       "    <tr>\n",
       "      <td>750</td>\n",
       "      <td>20</td>\n",
       "      <td>92</td>\n",
       "      <td>8595537.34</td>\n",
       "    </tr>\n",
       "    <tr>\n",
       "      <td>595</td>\n",
       "      <td>14</td>\n",
       "      <td>92</td>\n",
       "      <td>9629568.58</td>\n",
       "    </tr>\n",
       "  </tbody>\n",
       "</table>\n",
       "</div>"
      ],
      "text/plain": [
       "     Store  Dept  Weekly_Sales\n",
       "146      2    95    7252149.29\n",
       "598     14    95    7564999.25\n",
       "977     27    92    7619980.54\n",
       "753     20    95    7629207.10\n",
       "221      4    95    7721576.51\n",
       "218      4    92    8405121.25\n",
       "520     13    92    8487028.35\n",
       "143      2    92    8527670.75\n",
       "750     20    92    8595537.34\n",
       "595     14    92    9629568.58"
      ]
     },
     "execution_count": 56,
     "metadata": {},
     "output_type": "execute_result"
    }
   ],
   "source": [
    "top_ten_dept"
   ]
  },
  {
   "cell_type": "code",
   "execution_count": 57,
   "metadata": {},
   "outputs": [
    {
     "data": {
      "text/plain": [
       "{'Store': [2, 14, 27, 20, 4, 4, 13, 2, 20, 14],\n",
       " 'Dept': [95, 95, 92, 95, 95, 92, 92, 92, 92, 92]}"
      ]
     },
     "execution_count": 57,
     "metadata": {},
     "output_type": "execute_result"
    }
   ],
   "source": [
    "asd = {'Store': list(top_ten_dept['Store']), 'Dept': list(top_ten_dept['Dept'])}\n",
    "asd"
   ]
  },
  {
   "cell_type": "code",
   "execution_count": 58,
   "metadata": {},
   "outputs": [
    {
     "data": {
      "text/plain": [
       "146    7252149.29\n",
       "598    7564999.25\n",
       "977    7619980.54\n",
       "753    7629207.10\n",
       "221    7721576.51\n",
       "218    8405121.25\n",
       "520    8487028.35\n",
       "143    8527670.75\n",
       "750    8595537.34\n",
       "595    9629568.58\n",
       "Name: Weekly_Sales, dtype: float64"
      ]
     },
     "execution_count": 58,
     "metadata": {},
     "output_type": "execute_result"
    }
   ],
   "source": [
    "top_ten_dept['Weekly_Sales']"
   ]
  },
  {
   "cell_type": "code",
   "execution_count": 59,
   "metadata": {},
   "outputs": [
    {
     "data": {
      "image/png": "[encoded data removed]",
      "text/plain": [
       "<Figure size 1440x720 with 1 Axes>"
      ]
     },
     "metadata": {
      "needs_background": "light"
     },
     "output_type": "display_data"
    }
   ],
   "source": [
    "x = list(map(str, [(2, 95), (14, 95), (27, 92), (20, 95), (4, 95), (4, 92), (13, 92), (2, 92), (20, 92), (14, 92)]))\n",
    "y = top_ten_dept['Weekly_Sales']\n",
    "\n",
    "fig, ax = plt.subplots()\n",
    "\n",
    "ax.bar(x, y)\n",
    "\n",
    "fig.set_figwidth(20)\n",
    "fig.set_figheight(10)\n",
    "ax.set(ylim=(min(top_ten_dept['Weekly_Sales'])-250000, max(top_ten_dept['Weekly_Sales'])+250000))\n",
    "ax.set_xlabel('(Store, Department)')\n",
    "ax.set_ylabel('Aggregate Sales per Department')\n",
    "ax.set_title('TOP-10 Departments of A-type Stores in 2011')\n",
    "\n",
    "plt.show()"
   ]
  },
  {
   "cell_type": "markdown",
   "metadata": {},
   "source": [
    "## 5. Парадокс дней рождений (30 баллов)"
   ]
  },
  {
   "cell_type": "markdown",
   "metadata": {},
   "source": [
    "Прочитайте на википедии про [парадокс дней рождений](https://ru.wikipedia.org/wiki/Парадокс_дней_рождения). В этой задаче нам предстоит его проверить. Итак, в произвольной группе из  $50$ человек вероятность того, что хотя бы у двоих людей дни рождения совпадут, равна  $0.97$. Но это всё только в теории. При решении задачи мы предполагаем, что рождения людей равномерно распределены в течение года. Однако на практике это может быть не так. В связи с этим реальная вероятность может отличаться от теоретической.\n",
    "\n",
    "В этой задачке вам предстоит проверить парадокс дней рождений на эмпирических данных. От вас требуется:\n",
    "1. Выбрать какое-то большое сообщество в Vk. С помощью VkAPI выкачать инфорацию по ее подписчикам (самое главное это дата рождения, а также id пользователя, который будет его характеризовать. Не оставляйте свой токен \n",
    "2. Удалите из данных всех, кто не указал когда он родился. Приведите колонку с датами рождений к удобному, однообразному виду.\n",
    "3. Постройте гистограмму, на которой было бы понятно, в какой месяц родилось какое количество людей. Правда ли, что рождаемость людей в течение года распределена равномерно?\n",
    "4. Эмпирически оцените вероятность того, что в группе из 50 произвольных людей найдутся хотя бы двое с одинаковым днём рождения. Для этого напишите цикл, в ходе которого из таблички будет делаться подвыборка из 50 строк. Для этих 50 строк внутри условия вы должны проверить совпадение дней рождений. Если совпало, то нужно запомнить это в переменную счётчик, которую вы впоследствии, чтобы получить вероятность, поделите на длину цикла.\n",
    "\n",
    "**Обратите внимание, что часто придётся прогонять один и тот же код. Не надо его копировать. Оформите его в виде функции.** "
   ]
  },
  {
   "cell_type": "code",
   "execution_count": 60,
   "metadata": {},
   "outputs": [],
   "source": [
    "# Получим токен по ссылке\n",
    "# https://oauth.vk.com/authorize?client_id=**********&scope=8198&redirect_uri=https://oauth.vk.com/blank.html&display=page&v=5.16&response_type=token\n",
    "\n",
    "# версия используемого API\n",
    "version = '5.103' \n",
    "\n",
    "# подгружаем токен из файлика на компьютере\n",
    "with open('secret_token.txt') as f:\n",
    "    token = f.read()"
   ]
  },
  {
   "cell_type": "code",
   "execution_count": 61,
   "metadata": {},
   "outputs": [
    {
     "data": {
      "text/plain": [
       "{'response': [{'id': 1,\n",
       "   'first_name': 'Павел',\n",
       "   'last_name': 'Дуров',\n",
       "   'is_closed': False,\n",
       "   'can_access_closed': True}]}"
      ]
     },
     "execution_count": 61,
     "metadata": {},
     "output_type": "execute_result"
    }
   ],
   "source": [
    "method = 'users.get'\n",
    "parameters = 'user_ids=1'\n",
    "\n",
    "url = 'https://api.vk.com/method/' + method + '?' + parameters + '&v=' + version + '&access_token=' + token\n",
    "\n",
    "response = requests.get(url) \n",
    "response.json()"
   ]
  },
  {
   "cell_type": "code",
   "execution_count": 62,
   "metadata": {},
   "outputs": [],
   "source": [
    "def vk_download(method, parameters):\n",
    "    url = 'https://api.vk.com/method/' + method + '?' + parameters + '&access_token=' + token + '&v=' + version\n",
    "    response = requests.get(url).json()\n",
    "    return response"
   ]
  },
  {
   "cell_type": "code",
   "execution_count": 63,
   "metadata": {},
   "outputs": [
    {
     "name": "stderr",
     "output_type": "stream",
     "text": [
      "100%|██████████| 1000/1000 [08:20<00:00,  2.00it/s]\n"
     ]
    }
   ],
   "source": [
    "group_id = '23482909'\n",
    "fllws = []\n",
    "for x in tqdm(range(1000)):\n",
    "    fllw = vk_download('groups.getMembers', 'group_id={}&count=100&offset={}'.format(group_id, str(100*x)))\n",
    "    followers = fllw['response']['items']\n",
    "    fllws += followers\n",
    "    time.sleep(0.4)"
   ]
  },
  {
   "cell_type": "code",
   "execution_count": 64,
   "metadata": {},
   "outputs": [
    {
     "name": "stderr",
     "output_type": "stream",
     "text": [
      "100%|██████████| 1000/1000 [08:56<00:00,  1.86it/s]\n"
     ]
    }
   ],
   "source": [
    "fllws_bdays = []\n",
    "for y in tqdm(range(1000)):\n",
    "    fllws1 = vk_download('users.get','user_ids={}&fields=bdate'.format(','.join(list(map(str, fllws[100*y:100*y+100])))))\n",
    "    fllws_bdays += fllws1['response']\n",
    "    time.sleep(0.4)"
   ]
  },
  {
   "cell_type": "code",
   "execution_count": 65,
   "metadata": {},
   "outputs": [
    {
     "data": {
      "text/plain": [
       "100000"
      ]
     },
     "execution_count": 65,
     "metadata": {},
     "output_type": "execute_result"
    }
   ],
   "source": [
    "len(fllws_bdays)"
   ]
  },
  {
   "cell_type": "code",
   "execution_count": 66,
   "metadata": {},
   "outputs": [],
   "source": [
    "df_bd = pd.DataFrame(fllws_bdays) # датафрейм для 100 000 подписчиков (с их датами рождения)"
   ]
  },
  {
   "cell_type": "code",
   "execution_count": 67,
   "metadata": {},
   "outputs": [
    {
     "data": {
      "text/html": [
       "<div>\n",
       "<style scoped>\n",
       "    .dataframe tbody tr th:only-of-type {\n",
       "        vertical-align: middle;\n",
       "    }\n",
       "\n",
       "    .dataframe tbody tr th {\n",
       "        vertical-align: top;\n",
       "    }\n",
       "\n",
       "    .dataframe thead th {\n",
       "        text-align: right;\n",
       "    }\n",
       "</style>\n",
       "<table border=\"1\" class=\"dataframe\">\n",
       "  <thead>\n",
       "    <tr style=\"text-align: right;\">\n",
       "      <th></th>\n",
       "      <th>id</th>\n",
       "      <th>first_name</th>\n",
       "      <th>last_name</th>\n",
       "      <th>is_closed</th>\n",
       "      <th>can_access_closed</th>\n",
       "      <th>bdate</th>\n",
       "      <th>deactivated</th>\n",
       "    </tr>\n",
       "  </thead>\n",
       "  <tbody>\n",
       "    <tr>\n",
       "      <td>49372</td>\n",
       "      <td>31448795</td>\n",
       "      <td>Вячеслав</td>\n",
       "      <td>Крюков</td>\n",
       "      <td>False</td>\n",
       "      <td>True</td>\n",
       "      <td>NaN</td>\n",
       "      <td>NaN</td>\n",
       "    </tr>\n",
       "    <tr>\n",
       "      <td>49373</td>\n",
       "      <td>31452987</td>\n",
       "      <td>Александр</td>\n",
       "      <td>Проклов</td>\n",
       "      <td>True</td>\n",
       "      <td>False</td>\n",
       "      <td>NaN</td>\n",
       "      <td>NaN</td>\n",
       "    </tr>\n",
       "    <tr>\n",
       "      <td>49374</td>\n",
       "      <td>31455676</td>\n",
       "      <td>Юлия</td>\n",
       "      <td>Соколова</td>\n",
       "      <td>False</td>\n",
       "      <td>True</td>\n",
       "      <td>28.2.1995</td>\n",
       "      <td>NaN</td>\n",
       "    </tr>\n",
       "    <tr>\n",
       "      <td>49375</td>\n",
       "      <td>31461733</td>\n",
       "      <td>Эдуард</td>\n",
       "      <td>Κрюков</td>\n",
       "      <td>NaN</td>\n",
       "      <td>NaN</td>\n",
       "      <td>NaN</td>\n",
       "      <td>banned</td>\n",
       "    </tr>\n",
       "    <tr>\n",
       "      <td>49376</td>\n",
       "      <td>31461749</td>\n",
       "      <td>София</td>\n",
       "      <td>Соснина</td>\n",
       "      <td>False</td>\n",
       "      <td>True</td>\n",
       "      <td>16.4</td>\n",
       "      <td>NaN</td>\n",
       "    </tr>\n",
       "    <tr>\n",
       "      <td>49377</td>\n",
       "      <td>31464071</td>\n",
       "      <td>Серёжа</td>\n",
       "      <td>Мещеряков</td>\n",
       "      <td>False</td>\n",
       "      <td>True</td>\n",
       "      <td>1.5</td>\n",
       "      <td>NaN</td>\n",
       "    </tr>\n",
       "    <tr>\n",
       "      <td>49378</td>\n",
       "      <td>31465511</td>\n",
       "      <td>DELETED</td>\n",
       "      <td></td>\n",
       "      <td>NaN</td>\n",
       "      <td>NaN</td>\n",
       "      <td>NaN</td>\n",
       "      <td>deleted</td>\n",
       "    </tr>\n",
       "  </tbody>\n",
       "</table>\n",
       "</div>"
      ],
      "text/plain": [
       "             id first_name  last_name is_closed can_access_closed      bdate  \\\n",
       "49372  31448795   Вячеслав     Крюков     False              True        NaN   \n",
       "49373  31452987  Александр    Проклов      True             False        NaN   \n",
       "49374  31455676       Юлия   Соколова     False              True  28.2.1995   \n",
       "49375  31461733     Эдуард     Κрюков       NaN               NaN        NaN   \n",
       "49376  31461749      София    Соснина     False              True       16.4   \n",
       "49377  31464071     Серёжа  Мещеряков     False              True        1.5   \n",
       "49378  31465511    DELETED                  NaN               NaN        NaN   \n",
       "\n",
       "      deactivated  \n",
       "49372         NaN  \n",
       "49373         NaN  \n",
       "49374         NaN  \n",
       "49375      banned  \n",
       "49376         NaN  \n",
       "49377         NaN  \n",
       "49378     deleted  "
      ]
     },
     "execution_count": 67,
     "metadata": {},
     "output_type": "execute_result"
    }
   ],
   "source": [
    "df_bd.iloc()[49372:49372+7]"
   ]
  },
  {
   "cell_type": "code",
   "execution_count": 68,
   "metadata": {},
   "outputs": [],
   "source": [
    "df_bd = df_bd.dropna(subset=['bdate'])"
   ]
  },
  {
   "cell_type": "code",
   "execution_count": 69,
   "metadata": {},
   "outputs": [],
   "source": [
    "dff = df_bd.copy()"
   ]
  },
  {
   "cell_type": "code",
   "execution_count": 70,
   "metadata": {},
   "outputs": [],
   "source": [
    "def text_parser(text):\n",
    "    text1 = text.split('.')\n",
    "    dttm = pd.to_datetime('-'.join(text1[0:2]), format='%d-%m', errors='coerce')\n",
    "    return dttm\n",
    "\n",
    "# при таком парсинге, датам будет присвоен дефолтный 1900 год, однако нас это не интересует, \n",
    "# поскольку важен день и месяц рождения"
   ]
  },
  {
   "cell_type": "code",
   "execution_count": 71,
   "metadata": {},
   "outputs": [],
   "source": [
    "# cal = {'1': 'Jan', '2': 'Feb', '3': 'Mar', '4': 'Apr', '5': 'May', '6': 'Jun', '7': 'Jul', '8': 'Aug', '9': 'Sep', \n",
    "# '10': 'Oct', '11': 'Nov', '12': 'Dec',}\n",
    "\n",
    "# def month_parser0(text):\n",
    "#     text1 = text.split('.')\n",
    "#     dttm = cal[str(int(text1[1]))]\n",
    "#     return dttm"
   ]
  },
  {
   "cell_type": "code",
   "execution_count": 72,
   "metadata": {},
   "outputs": [],
   "source": [
    "def month_parser(text):\n",
    "    text1 = text.split('.')\n",
    "    dttm = pd.to_datetime(str(text1[1]), format='%m')\n",
    "    return dttm"
   ]
  },
  {
   "cell_type": "code",
   "execution_count": 73,
   "metadata": {},
   "outputs": [],
   "source": [
    "df_bd['bdate'] = dff['bdate'].apply(text_parser)"
   ]
  },
  {
   "cell_type": "code",
   "execution_count": 74,
   "metadata": {},
   "outputs": [],
   "source": [
    "df_bd = df_bd.dropna(subset=['bdate'])"
   ]
  },
  {
   "cell_type": "code",
   "execution_count": 75,
   "metadata": {},
   "outputs": [],
   "source": [
    "df_bd['month'] = dff['bdate'].apply(month_parser)"
   ]
  },
  {
   "cell_type": "code",
   "execution_count": 76,
   "metadata": {
    "scrolled": true
   },
   "outputs": [
    {
     "data": {
      "text/html": [
       "<div>\n",
       "<style scoped>\n",
       "    .dataframe tbody tr th:only-of-type {\n",
       "        vertical-align: middle;\n",
       "    }\n",
       "\n",
       "    .dataframe tbody tr th {\n",
       "        vertical-align: top;\n",
       "    }\n",
       "\n",
       "    .dataframe thead th {\n",
       "        text-align: right;\n",
       "    }\n",
       "</style>\n",
       "<table border=\"1\" class=\"dataframe\">\n",
       "  <thead>\n",
       "    <tr style=\"text-align: right;\">\n",
       "      <th></th>\n",
       "      <th>id</th>\n",
       "      <th>first_name</th>\n",
       "      <th>last_name</th>\n",
       "      <th>is_closed</th>\n",
       "      <th>can_access_closed</th>\n",
       "      <th>bdate</th>\n",
       "      <th>deactivated</th>\n",
       "      <th>month</th>\n",
       "    </tr>\n",
       "  </thead>\n",
       "  <tbody>\n",
       "    <tr>\n",
       "      <td>1</td>\n",
       "      <td>19</td>\n",
       "      <td>Светочек</td>\n",
       "      <td>Аленький</td>\n",
       "      <td>False</td>\n",
       "      <td>True</td>\n",
       "      <td>1900-12-12</td>\n",
       "      <td>NaN</td>\n",
       "      <td>1900-12-01</td>\n",
       "    </tr>\n",
       "    <tr>\n",
       "      <td>2</td>\n",
       "      <td>34</td>\n",
       "      <td>Татьяна</td>\n",
       "      <td>Плуталова</td>\n",
       "      <td>False</td>\n",
       "      <td>True</td>\n",
       "      <td>1900-06-02</td>\n",
       "      <td>NaN</td>\n",
       "      <td>1900-06-01</td>\n",
       "    </tr>\n",
       "    <tr>\n",
       "      <td>3</td>\n",
       "      <td>309</td>\n",
       "      <td>Ilya</td>\n",
       "      <td>Krivonogov</td>\n",
       "      <td>True</td>\n",
       "      <td>False</td>\n",
       "      <td>1900-10-18</td>\n",
       "      <td>NaN</td>\n",
       "      <td>1900-10-01</td>\n",
       "    </tr>\n",
       "    <tr>\n",
       "      <td>6</td>\n",
       "      <td>1011</td>\n",
       "      <td>Максим</td>\n",
       "      <td>Петренчук</td>\n",
       "      <td>True</td>\n",
       "      <td>False</td>\n",
       "      <td>1900-10-01</td>\n",
       "      <td>NaN</td>\n",
       "      <td>1900-10-01</td>\n",
       "    </tr>\n",
       "    <tr>\n",
       "      <td>7</td>\n",
       "      <td>1092</td>\n",
       "      <td>Roman</td>\n",
       "      <td>Kurilov</td>\n",
       "      <td>False</td>\n",
       "      <td>True</td>\n",
       "      <td>1900-11-08</td>\n",
       "      <td>NaN</td>\n",
       "      <td>1900-11-01</td>\n",
       "    </tr>\n",
       "    <tr>\n",
       "      <td>...</td>\n",
       "      <td>...</td>\n",
       "      <td>...</td>\n",
       "      <td>...</td>\n",
       "      <td>...</td>\n",
       "      <td>...</td>\n",
       "      <td>...</td>\n",
       "      <td>...</td>\n",
       "      <td>...</td>\n",
       "    </tr>\n",
       "    <tr>\n",
       "      <td>99988</td>\n",
       "      <td>146588322</td>\n",
       "      <td>Алеся</td>\n",
       "      <td>Дедяева</td>\n",
       "      <td>False</td>\n",
       "      <td>True</td>\n",
       "      <td>1900-06-11</td>\n",
       "      <td>NaN</td>\n",
       "      <td>1900-06-01</td>\n",
       "    </tr>\n",
       "    <tr>\n",
       "      <td>99989</td>\n",
       "      <td>146589417</td>\n",
       "      <td>Вероника</td>\n",
       "      <td>Попова</td>\n",
       "      <td>False</td>\n",
       "      <td>True</td>\n",
       "      <td>1900-02-19</td>\n",
       "      <td>NaN</td>\n",
       "      <td>1900-02-01</td>\n",
       "    </tr>\n",
       "    <tr>\n",
       "      <td>99990</td>\n",
       "      <td>146589819</td>\n",
       "      <td>Светлана</td>\n",
       "      <td>Губарева-Жидкова</td>\n",
       "      <td>False</td>\n",
       "      <td>True</td>\n",
       "      <td>1900-01-07</td>\n",
       "      <td>NaN</td>\n",
       "      <td>1900-01-01</td>\n",
       "    </tr>\n",
       "    <tr>\n",
       "      <td>99993</td>\n",
       "      <td>146602470</td>\n",
       "      <td>Ксения</td>\n",
       "      <td>Миронова</td>\n",
       "      <td>False</td>\n",
       "      <td>True</td>\n",
       "      <td>1900-05-18</td>\n",
       "      <td>NaN</td>\n",
       "      <td>1900-05-01</td>\n",
       "    </tr>\n",
       "    <tr>\n",
       "      <td>99995</td>\n",
       "      <td>146612443</td>\n",
       "      <td>Василий</td>\n",
       "      <td>Богачев</td>\n",
       "      <td>False</td>\n",
       "      <td>True</td>\n",
       "      <td>1900-07-17</td>\n",
       "      <td>NaN</td>\n",
       "      <td>1900-07-01</td>\n",
       "    </tr>\n",
       "  </tbody>\n",
       "</table>\n",
       "<p>64280 rows × 8 columns</p>\n",
       "</div>"
      ],
      "text/plain": [
       "              id first_name         last_name is_closed can_access_closed  \\\n",
       "1             19   Светочек          Аленький     False              True   \n",
       "2             34    Татьяна         Плуталова     False              True   \n",
       "3            309       Ilya        Krivonogov      True             False   \n",
       "6           1011     Максим         Петренчук      True             False   \n",
       "7           1092      Roman           Kurilov     False              True   \n",
       "...          ...        ...               ...       ...               ...   \n",
       "99988  146588322      Алеся           Дедяева     False              True   \n",
       "99989  146589417   Вероника            Попова     False              True   \n",
       "99990  146589819   Светлана  Губарева-Жидкова     False              True   \n",
       "99993  146602470     Ксения          Миронова     False              True   \n",
       "99995  146612443    Василий           Богачев     False              True   \n",
       "\n",
       "           bdate deactivated      month  \n",
       "1     1900-12-12         NaN 1900-12-01  \n",
       "2     1900-06-02         NaN 1900-06-01  \n",
       "3     1900-10-18         NaN 1900-10-01  \n",
       "6     1900-10-01         NaN 1900-10-01  \n",
       "7     1900-11-08         NaN 1900-11-01  \n",
       "...          ...         ...        ...  \n",
       "99988 1900-06-11         NaN 1900-06-01  \n",
       "99989 1900-02-19         NaN 1900-02-01  \n",
       "99990 1900-01-07         NaN 1900-01-01  \n",
       "99993 1900-05-18         NaN 1900-05-01  \n",
       "99995 1900-07-17         NaN 1900-07-01  \n",
       "\n",
       "[64280 rows x 8 columns]"
      ]
     },
     "execution_count": 76,
     "metadata": {},
     "output_type": "execute_result"
    }
   ],
   "source": [
    "df_bd"
   ]
  },
  {
   "cell_type": "code",
   "execution_count": 77,
   "metadata": {},
   "outputs": [
    {
     "data": {
      "text/plain": [
       "Text(0, 0.5, 'кол-во человек')"
      ]
     },
     "execution_count": 77,
     "metadata": {},
     "output_type": "execute_result"
    },
    {
     "data": {
      "image/png": "[encoded data removed]",
      "text/plain": [
       "<Figure size 432x288 with 1 Axes>"
      ]
     },
     "metadata": {
      "needs_background": "light"
     },
     "output_type": "display_data"
    }
   ],
   "source": [
    "#aaa = df_bd['id'][20:50] + df_bd['month'][20:50]\n",
    "aaa = df_bd['month']\n",
    "#aaa = pd.concat([df_bd['month'], df_bd['id']], axis=1)\n",
    "#aaa = df_bd.take([0, len(df_bd.columns)-1], axis=1)\n",
    "plt.hist(aaa, bins=12, color='y')\n",
    "plt.title('Дни Рождения по месяцам')\n",
    "plt.xlabel('Месяц Рождения')\n",
    "plt.ylabel('кол-во человек')"
   ]
  },
  {
   "cell_type": "markdown",
   "metadata": {},
   "source": [
    "Распределение Дней Рождения по месяцам близко к равномерному. Небольшой провал в Феврале можно объяснить меньшм количеством дней в месяце(28 или 29 против 30 или 31)."
   ]
  },
  {
   "cell_type": "code",
   "execution_count": 78,
   "metadata": {},
   "outputs": [
    {
     "data": {
      "text/plain": [
       "pandas.core.series.Series"
      ]
     },
     "execution_count": 78,
     "metadata": {},
     "output_type": "execute_result"
    }
   ],
   "source": [
    "type(df_bd['bdate'])"
   ]
  },
  {
   "cell_type": "code",
   "execution_count": 79,
   "metadata": {},
   "outputs": [],
   "source": [
    "def same_bday(arr):\n",
    "    l = list(arr)\n",
    "    if len(l) == len(list(set(l))): # Нет общих Дней Рождения\n",
    "        return 0 \n",
    "    else:                           # Есть общие Дни Рождения\n",
    "        return 1"
   ]
  },
  {
   "cell_type": "code",
   "execution_count": 80,
   "metadata": {},
   "outputs": [],
   "source": [
    "def intersection_p(date_data, day_window: int):\n",
    "    inters = 0\n",
    "    size = 10000\n",
    "    for x in range(size):\n",
    "        a = np.random.randint(0, len(date_data)-day_window)\n",
    "        sample = np.array(date_data)[a:a+day_window]\n",
    "        inters += same_bday(sample)\n",
    "    return inters / size"
   ]
  },
  {
   "cell_type": "code",
   "execution_count": 81,
   "metadata": {},
   "outputs": [
    {
     "name": "stdout",
     "output_type": "stream",
     "text": [
      "Вероятность того, что в случайной выборке из 50 человек хотя бы у двоих совпадет День Рождения эмпирически равна: \n",
      "0.9741\n"
     ]
    }
   ],
   "source": [
    "print('Вероятность того, что в случайной выборке из 50 человек хотя бы у двоих совпадет День Рождения эмпирически равна: ' + '\\n' + str(intersection_p(df_bd['bdate'], 50)))"
   ]
  },
  {
   "cell_type": "markdown",
   "metadata": {},
   "source": [
    "Сделав несколько симуляций, получаем, что в среднем, выборочная вероятность близка к теоретической. В большинстве симуляций, она немного превосходила ее(на 0.005, в среднем). Причиной, вероятно, является особенность выборки(большое количество людей с пересекающимеся Днями Рождениями в выборке)."
   ]
  }
 ],
 "metadata": {
  "kernelspec": {
   "display_name": "Python 3",
   "language": "python",
   "name": "python3"
  },
  "language_info": {
   "codemirror_mode": {
    "name": "ipython",
    "version": 3
   },
   "file_extension": ".py",
   "mimetype": "text/x-python",
   "name": "python",
   "nbconvert_exporter": "python",
   "pygments_lexer": "ipython3",
   "version": "3.7.4"
  }
 },
 "nbformat": 4,
 "nbformat_minor": 2
}
